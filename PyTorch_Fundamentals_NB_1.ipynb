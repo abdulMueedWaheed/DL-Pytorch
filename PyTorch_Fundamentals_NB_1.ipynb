{
  "nbformat": 4,
  "nbformat_minor": 0,
  "metadata": {
    "colab": {
      "provenance": [],
      "authorship_tag": "ABX9TyNqAY7ksH0djgxidjUaGHBu",
      "include_colab_link": true
    },
    "kernelspec": {
      "name": "python3",
      "display_name": "Python 3"
    },
    "language_info": {
      "name": "python"
    }
  },
  "cells": [
    {
      "cell_type": "markdown",
      "metadata": {
        "id": "view-in-github",
        "colab_type": "text"
      },
      "source": [
        "<a href=\"https://colab.research.google.com/github/abdulMueedWaheed/DL-Pytorch/blob/main/PyTorch_Fundamentals_NB_1.ipynb\" target=\"_parent\"><img src=\"https://colab.research.google.com/assets/colab-badge.svg\" alt=\"Open In Colab\"/></a>"
      ]
    },
    {
      "cell_type": "markdown",
      "source": [
        "## 0. PyTorch Fundamentals\n"
      ],
      "metadata": {
        "id": "Dp3I_sDvGmbj"
      }
    },
    {
      "cell_type": "markdown",
      "source": [
        "# Intro to Tensors\n",
        "## Creating a tensor:\n",
        "Tensors are created using 'torch.Tensor()'"
      ],
      "metadata": {
        "id": "4ctaBJcmHAmF"
      }
    },
    {
      "cell_type": "code",
      "source": [
        "import torch\n",
        "import numpy as np\n",
        "import matplotlib.pyplot as plt\n",
        "import pandas as pd\n",
        "\n",
        "print(torch.__version__);"
      ],
      "metadata": {
        "id": "ogqYJlrNKTPL",
        "colab": {
          "base_uri": "https://localhost:8080/"
        },
        "outputId": "fdbebffa-51e3-4631-fb04-ae2509d0f189"
      },
      "execution_count": null,
      "outputs": [
        {
          "output_type": "stream",
          "name": "stdout",
          "text": [
            "2.6.0+cu124\n"
          ]
        }
      ]
    },
    {
      "cell_type": "code",
      "source": [
        "scalar = torch.tensor(7)\n",
        "scalar"
      ],
      "metadata": {
        "colab": {
          "base_uri": "https://localhost:8080/"
        },
        "id": "PAKQu66eP-yc",
        "outputId": "e6c6cc3d-8ab1-46bc-a316-72956ebaf641"
      },
      "execution_count": null,
      "outputs": [
        {
          "output_type": "execute_result",
          "data": {
            "text/plain": [
              "tensor(7)"
            ]
          },
          "metadata": {},
          "execution_count": 2
        }
      ]
    },
    {
      "cell_type": "code",
      "source": [
        "scalar.ndim\n",
        "# 0, because it has no dimensions\n",
        "# It is a single number"
      ],
      "metadata": {
        "colab": {
          "base_uri": "https://localhost:8080/"
        },
        "id": "omE73mxBQMWb",
        "outputId": "d2623a92-e592-406e-f6b9-d1dabffcff1c"
      },
      "execution_count": null,
      "outputs": [
        {
          "output_type": "execute_result",
          "data": {
            "text/plain": [
              "0"
            ]
          },
          "metadata": {},
          "execution_count": 3
        }
      ]
    },
    {
      "cell_type": "code",
      "source": [
        "scalar.item()\n",
        "# turn scalar to Python int"
      ],
      "metadata": {
        "colab": {
          "base_uri": "https://localhost:8080/"
        },
        "id": "3ivHnrLbjqVX",
        "outputId": "70a4b024-aae7-4db1-e105-0e297a491dcb"
      },
      "execution_count": null,
      "outputs": [
        {
          "output_type": "execute_result",
          "data": {
            "text/plain": [
              "7"
            ]
          },
          "metadata": {},
          "execution_count": 4
        }
      ]
    },
    {
      "cell_type": "code",
      "source": [
        "vector = torch.tensor([7, 7])\n",
        "vector"
      ],
      "metadata": {
        "colab": {
          "base_uri": "https://localhost:8080/"
        },
        "id": "KA2HsqU8j0Xd",
        "outputId": "abf7e8ec-e80b-4162-fdb1-1e302decf4e9"
      },
      "execution_count": null,
      "outputs": [
        {
          "output_type": "execute_result",
          "data": {
            "text/plain": [
              "tensor([7, 7])"
            ]
          },
          "metadata": {},
          "execution_count": 5
        }
      ]
    },
    {
      "cell_type": "code",
      "source": [
        "vector.shape"
      ],
      "metadata": {
        "colab": {
          "base_uri": "https://localhost:8080/"
        },
        "id": "JQTKBNVQkADZ",
        "outputId": "0850ff96-c07f-479a-ae19-0c598f5cc4de"
      },
      "execution_count": null,
      "outputs": [
        {
          "output_type": "execute_result",
          "data": {
            "text/plain": [
              "torch.Size([2])"
            ]
          },
          "metadata": {},
          "execution_count": 6
        }
      ]
    },
    {
      "cell_type": "code",
      "source": [
        "vector.ndim"
      ],
      "metadata": {
        "id": "f2rONidukF9a",
        "outputId": "f534eade-02d1-4eae-90e4-46b4f77885f6",
        "colab": {
          "base_uri": "https://localhost:8080/"
        }
      },
      "execution_count": null,
      "outputs": [
        {
          "output_type": "execute_result",
          "data": {
            "text/plain": [
              "1"
            ]
          },
          "metadata": {},
          "execution_count": 7
        }
      ]
    },
    {
      "cell_type": "code",
      "source": [
        "# Matrix\n",
        "matrix = torch.tensor([[6, 7], [8, 9]]);\n",
        "matrix"
      ],
      "metadata": {
        "id": "XKPufLVqkHYZ",
        "colab": {
          "base_uri": "https://localhost:8080/"
        },
        "outputId": "a86b75f2-4da0-4f70-ae6b-4d99389c71ee"
      },
      "execution_count": null,
      "outputs": [
        {
          "output_type": "execute_result",
          "data": {
            "text/plain": [
              "tensor([[6, 7],\n",
              "        [8, 9]])"
            ]
          },
          "metadata": {},
          "execution_count": 9
        }
      ]
    },
    {
      "cell_type": "code",
      "source": [
        "matrix.ndim"
      ],
      "metadata": {
        "colab": {
          "base_uri": "https://localhost:8080/"
        },
        "id": "a8V4nHSbRwjt",
        "outputId": "aa5ccb0c-2cdf-4f41-9da9-4f2424b44bba"
      },
      "execution_count": null,
      "outputs": [
        {
          "output_type": "execute_result",
          "data": {
            "text/plain": [
              "2"
            ]
          },
          "metadata": {},
          "execution_count": 10
        }
      ]
    },
    {
      "cell_type": "code",
      "source": [
        "matrix[1]"
      ],
      "metadata": {
        "colab": {
          "base_uri": "https://localhost:8080/"
        },
        "id": "2TsYtNShR9ez",
        "outputId": "e1284605-b572-4415-9614-5a6bbcb30288"
      },
      "execution_count": null,
      "outputs": [
        {
          "output_type": "execute_result",
          "data": {
            "text/plain": [
              "tensor([8, 9])"
            ]
          },
          "metadata": {},
          "execution_count": 11
        }
      ]
    },
    {
      "cell_type": "code",
      "source": [
        "matrix.shape"
      ],
      "metadata": {
        "colab": {
          "base_uri": "https://localhost:8080/"
        },
        "id": "baYKivKwR_Q5",
        "outputId": "ccd4e0ce-d749-4ab0-93be-d93f45f6a1b8"
      },
      "execution_count": null,
      "outputs": [
        {
          "output_type": "execute_result",
          "data": {
            "text/plain": [
              "torch.Size([2, 2])"
            ]
          },
          "metadata": {},
          "execution_count": 12
        }
      ]
    },
    {
      "cell_type": "code",
      "source": [
        "# Tensor: -\n",
        "TENSOR = torch.tensor([[\n",
        "    [1, 2, 3],\n",
        "    [4, 5, 6],\n",
        "    [7, 8, 9]\n",
        "]]);\n",
        "TENSOR"
      ],
      "metadata": {
        "colab": {
          "base_uri": "https://localhost:8080/"
        },
        "id": "4zKuUQTLSCTM",
        "outputId": "11dc270d-1d82-4e0e-a1ec-c4c6e4dae819"
      },
      "execution_count": null,
      "outputs": [
        {
          "output_type": "execute_result",
          "data": {
            "text/plain": [
              "tensor([[[1, 2, 3],\n",
              "         [4, 5, 6],\n",
              "         [7, 8, 9]]])"
            ]
          },
          "metadata": {},
          "execution_count": 13
        }
      ]
    },
    {
      "cell_type": "code",
      "source": [
        "TENSOR.ndim"
      ],
      "metadata": {
        "colab": {
          "base_uri": "https://localhost:8080/"
        },
        "id": "cz13lY9rSfON",
        "outputId": "bec6766b-9654-466b-f793-95125d091bd5"
      },
      "execution_count": null,
      "outputs": [
        {
          "output_type": "execute_result",
          "data": {
            "text/plain": [
              "3"
            ]
          },
          "metadata": {},
          "execution_count": 14
        }
      ]
    },
    {
      "cell_type": "code",
      "source": [
        "TENSOR.shape"
      ],
      "metadata": {
        "colab": {
          "base_uri": "https://localhost:8080/"
        },
        "id": "WnEyZVCpSjF2",
        "outputId": "cb39b3bf-43a9-4a16-ddb7-e145cb84506b"
      },
      "execution_count": null,
      "outputs": [
        {
          "output_type": "execute_result",
          "data": {
            "text/plain": [
              "torch.Size([1, 3, 3])"
            ]
          },
          "metadata": {},
          "execution_count": 15
        }
      ]
    },
    {
      "cell_type": "code",
      "source": [
        "TENSOR[0][0]"
      ],
      "metadata": {
        "colab": {
          "base_uri": "https://localhost:8080/"
        },
        "id": "IRrdG1YdSk88",
        "outputId": "b71a2a7c-9b42-4a3d-a283-3fa9978206f1"
      },
      "execution_count": null,
      "outputs": [
        {
          "output_type": "execute_result",
          "data": {
            "text/plain": [
              "tensor([4, 5, 6])"
            ]
          },
          "metadata": {},
          "execution_count": 18
        }
      ]
    },
    {
      "cell_type": "markdown",
      "source": [
        "![image.png](data:image/png;base64,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)"
      ],
      "metadata": {
        "id": "ZSTMVmXihjVK"
      }
    },
    {
      "cell_type": "code",
      "source": [
        "# trying to get creative with tensors: -\n",
        "TENS = torch.tensor(\n",
        "    [[[1, 2, 3],\n",
        "      [4, 5, 6],\n",
        "      [7, 8, 9]],\n",
        "\n",
        "     [[1, 2, 3],\n",
        "      [4, 5, 6],\n",
        "      [7, 8, 9]],\n",
        "\n",
        "     [[1, 2, 3],\n",
        "      [4, 5, 6],\n",
        "      [7, 8, 9]],\n",
        "     ]\n",
        ")\n",
        "\n",
        "TENS"
      ],
      "metadata": {
        "colab": {
          "base_uri": "https://localhost:8080/"
        },
        "id": "pY1yjnDMhnc4",
        "outputId": "01a1f6c3-90c8-4450-c6d6-50a17dcdc732"
      },
      "execution_count": null,
      "outputs": [
        {
          "output_type": "execute_result",
          "data": {
            "text/plain": [
              "tensor([[[1, 2, 3],\n",
              "         [4, 5, 6],\n",
              "         [7, 8, 9]],\n",
              "\n",
              "        [[1, 2, 3],\n",
              "         [4, 5, 6],\n",
              "         [7, 8, 9]],\n",
              "\n",
              "        [[1, 2, 3],\n",
              "         [4, 5, 6],\n",
              "         [7, 8, 9]]])"
            ]
          },
          "metadata": {},
          "execution_count": 2
        }
      ]
    },
    {
      "cell_type": "code",
      "source": [
        "TENS.ndim"
      ],
      "metadata": {
        "colab": {
          "base_uri": "https://localhost:8080/"
        },
        "id": "4m8GljVC3L9N",
        "outputId": "e9bb2b3b-0d3c-4d6f-a38b-aeb9c3ba3e69"
      },
      "execution_count": null,
      "outputs": [
        {
          "output_type": "execute_result",
          "data": {
            "text/plain": [
              "3"
            ]
          },
          "metadata": {},
          "execution_count": 3
        }
      ]
    },
    {
      "cell_type": "code",
      "source": [
        "TENS.shape"
      ],
      "metadata": {
        "colab": {
          "base_uri": "https://localhost:8080/"
        },
        "id": "-VjMhjLI3Nqs",
        "outputId": "870b11dc-b236-4864-ca45-cb1cef2941e8"
      },
      "execution_count": null,
      "outputs": [
        {
          "output_type": "execute_result",
          "data": {
            "text/plain": [
              "torch.Size([3, 3, 3])"
            ]
          },
          "metadata": {},
          "execution_count": 4
        }
      ]
    },
    {
      "cell_type": "code",
      "source": [
        "TENS[1][1][2]"
      ],
      "metadata": {
        "colab": {
          "base_uri": "https://localhost:8080/"
        },
        "id": "YJBDy0c83Pee",
        "outputId": "28b05563-30eb-4b53-ff2a-42aded89aa20"
      },
      "execution_count": null,
      "outputs": [
        {
          "output_type": "execute_result",
          "data": {
            "text/plain": [
              "tensor(6)"
            ]
          },
          "metadata": {},
          "execution_count": 5
        }
      ]
    },
    {
      "cell_type": "markdown",
      "source": [
        "### Random Tensors\n",
        "Random Tensors are important because they start with tensors full of \"random number\" and then \"adjust\" those random numbers to better represent the data.\n",
        "\n",
        "```\n",
        "Start with tensor (random) -> look at data <-> update data\n",
        "```\n"
      ],
      "metadata": {
        "id": "IYYe5BvV6ywE"
      }
    },
    {
      "cell_type": "code",
      "source": [
        "# creating a random tensor: -\n",
        "random_tensor = torch.rand(3, 4);\n",
        "random_tensor"
      ],
      "metadata": {
        "colab": {
          "base_uri": "https://localhost:8080/"
        },
        "id": "tNUq73SB69wc",
        "outputId": "33494026-6c4b-46e3-93e8-9902a3d50d2e"
      },
      "execution_count": null,
      "outputs": [
        {
          "output_type": "execute_result",
          "data": {
            "text/plain": [
              "tensor([[0.2113, 0.3496, 0.2408, 0.5803],\n",
              "        [0.6332, 0.3823, 0.1106, 0.0605],\n",
              "        [0.5261, 0.3619, 0.8772, 0.4058]])"
            ]
          },
          "metadata": {},
          "execution_count": 6
        }
      ]
    },
    {
      "cell_type": "code",
      "source": [
        "random_tensor.ndim"
      ],
      "metadata": {
        "colab": {
          "base_uri": "https://localhost:8080/"
        },
        "id": "xscOOEjs7n26",
        "outputId": "bb158aec-9226-42b4-bb61-e1e102c57c35"
      },
      "execution_count": null,
      "outputs": [
        {
          "output_type": "execute_result",
          "data": {
            "text/plain": [
              "2"
            ]
          },
          "metadata": {},
          "execution_count": 7
        }
      ]
    },
    {
      "cell_type": "code",
      "source": [
        "random_tensor.shape"
      ],
      "metadata": {
        "colab": {
          "base_uri": "https://localhost:8080/"
        },
        "id": "wsf7i_wa70V6",
        "outputId": "9ca33029-9f15-467d-d81c-4eb7bb280de4"
      },
      "execution_count": null,
      "outputs": [
        {
          "output_type": "execute_result",
          "data": {
            "text/plain": [
              "torch.Size([3, 4])"
            ]
          },
          "metadata": {},
          "execution_count": 8
        }
      ]
    },
    {
      "cell_type": "code",
      "source": [
        "# create a random tensor the same size as an image: -\n",
        "random_img_size_tensor = torch.rand(size=(224, 224, 3));"
      ],
      "metadata": {
        "id": "Ez-sSOlk72KK"
      },
      "execution_count": null,
      "outputs": []
    },
    {
      "cell_type": "code",
      "source": [
        "random_img_size_tensor"
      ],
      "metadata": {
        "colab": {
          "base_uri": "https://localhost:8080/"
        },
        "id": "UEpHJOD98aEj",
        "outputId": "0b4a51b8-3ca8-4195-ae62-cecf1ff2d714"
      },
      "execution_count": null,
      "outputs": [
        {
          "output_type": "execute_result",
          "data": {
            "text/plain": [
              "tensor([[[0.2351, 0.6575, 0.7586],\n",
              "         [0.4486, 0.4903, 0.5109],\n",
              "         [0.7962, 0.1472, 0.0138],\n",
              "         ...,\n",
              "         [0.0649, 0.0118, 0.9961],\n",
              "         [0.2867, 0.8924, 0.3279],\n",
              "         [0.5438, 0.2499, 0.7076]],\n",
              "\n",
              "        [[0.4403, 0.3740, 0.0905],\n",
              "         [0.4064, 0.6821, 0.2397],\n",
              "         [0.7953, 0.6617, 0.2678],\n",
              "         ...,\n",
              "         [0.4742, 0.7629, 0.6472],\n",
              "         [0.7846, 0.7135, 0.3591],\n",
              "         [0.3942, 0.4496, 0.9453]],\n",
              "\n",
              "        [[0.0195, 0.0961, 0.9888],\n",
              "         [0.4031, 0.4792, 0.3990],\n",
              "         [0.2580, 0.7120, 0.1154],\n",
              "         ...,\n",
              "         [0.8051, 0.5517, 0.4005],\n",
              "         [0.8139, 0.1792, 0.2321],\n",
              "         [0.2596, 0.4568, 0.9865]],\n",
              "\n",
              "        ...,\n",
              "\n",
              "        [[0.3632, 0.2535, 0.0681],\n",
              "         [0.1646, 0.6238, 0.1328],\n",
              "         [0.8990, 0.2083, 0.6343],\n",
              "         ...,\n",
              "         [0.1979, 0.2161, 0.4854],\n",
              "         [0.2813, 0.1961, 0.7771],\n",
              "         [0.6351, 0.8362, 0.5033]],\n",
              "\n",
              "        [[0.6269, 0.7780, 0.7742],\n",
              "         [0.0691, 0.9700, 0.2919],\n",
              "         [0.8420, 0.0624, 0.5042],\n",
              "         ...,\n",
              "         [0.8740, 0.0059, 0.0551],\n",
              "         [0.3532, 0.3142, 0.6995],\n",
              "         [0.0632, 0.8668, 0.4849]],\n",
              "\n",
              "        [[0.8336, 0.6279, 0.2012],\n",
              "         [0.0610, 0.2245, 0.0099],\n",
              "         [0.8375, 0.6617, 0.9694],\n",
              "         ...,\n",
              "         [0.9501, 0.0522, 0.1821],\n",
              "         [0.0803, 0.1123, 0.4827],\n",
              "         [0.8361, 0.3542, 0.0628]]])"
            ]
          },
          "metadata": {},
          "execution_count": 10
        }
      ]
    },
    {
      "cell_type": "code",
      "source": [
        "random_img_size_tensor.ndim\n",
        "random_img_size_tensor.shape"
      ],
      "metadata": {
        "colab": {
          "base_uri": "https://localhost:8080/"
        },
        "id": "rfAffUNY8kz3",
        "outputId": "b127302a-c5cc-4316-bf3c-ea25d931656a"
      },
      "execution_count": null,
      "outputs": [
        {
          "output_type": "execute_result",
          "data": {
            "text/plain": [
              "torch.Size([224, 224, 3])"
            ]
          },
          "metadata": {},
          "execution_count": 11
        }
      ]
    },
    {
      "cell_type": "markdown",
      "source": [
        "## Zeros and Ones"
      ],
      "metadata": {
        "id": "nPZA5wTX8ntg"
      }
    },
    {
      "cell_type": "code",
      "source": [
        "#Create a tensor of all zeros\n",
        "zeros = torch.zeros(size=(3, 4));\n",
        "zeros"
      ],
      "metadata": {
        "colab": {
          "base_uri": "https://localhost:8080/"
        },
        "id": "ESgnUQ8gT2Lp",
        "outputId": "8607e8db-5a56-4715-9963-9118f8ba6eff"
      },
      "execution_count": null,
      "outputs": [
        {
          "output_type": "execute_result",
          "data": {
            "text/plain": [
              "tensor([[0., 0., 0., 0.],\n",
              "        [0., 0., 0., 0.],\n",
              "        [0., 0., 0., 0.]])"
            ]
          },
          "metadata": {},
          "execution_count": 13
        }
      ]
    },
    {
      "cell_type": "code",
      "source": [
        "ones = torch.ones(size=(3, 4));\n",
        "ones"
      ],
      "metadata": {
        "colab": {
          "base_uri": "https://localhost:8080/"
        },
        "id": "gNmeO8j1T0dW",
        "outputId": "2379f8a2-c392-479e-be38-a509d0ba5f81"
      },
      "execution_count": null,
      "outputs": [
        {
          "output_type": "execute_result",
          "data": {
            "text/plain": [
              "tensor([[1., 1., 1., 1.],\n",
              "        [1., 1., 1., 1.],\n",
              "        [1., 1., 1., 1.]])"
            ]
          },
          "metadata": {},
          "execution_count": 14
        }
      ]
    },
    {
      "cell_type": "code",
      "source": [
        "ones.dtype"
      ],
      "metadata": {
        "colab": {
          "base_uri": "https://localhost:8080/"
        },
        "id": "KJRWhe2eUOAo",
        "outputId": "6d49f351-8128-4a64-be8c-712d438a6864"
      },
      "execution_count": null,
      "outputs": [
        {
          "output_type": "execute_result",
          "data": {
            "text/plain": [
              "torch.float32"
            ]
          },
          "metadata": {},
          "execution_count": 15
        }
      ]
    },
    {
      "cell_type": "markdown",
      "source": [
        "### Creating a range of tensors and Tensors like"
      ],
      "metadata": {
        "id": "ofC1mTUf5SE_"
      }
    },
    {
      "cell_type": "code",
      "source": [
        "oneToTen = torch.arange(1, 11)"
      ],
      "metadata": {
        "id": "hDlPVcfyUP32"
      },
      "execution_count": null,
      "outputs": []
    },
    {
      "cell_type": "code",
      "source": [
        "ten_zeros = torch.zeros_like(oneToTen)\n",
        "ten_zeros"
      ],
      "metadata": {
        "colab": {
          "base_uri": "https://localhost:8080/"
        },
        "id": "OnFETaKR4x-p",
        "outputId": "9c4b910d-8f9f-4ef9-8cb9-b546bb1d2fa3"
      },
      "execution_count": null,
      "outputs": [
        {
          "output_type": "execute_result",
          "data": {
            "text/plain": [
              "tensor([0, 0, 0, 0, 0, 0, 0, 0, 0, 0])"
            ]
          },
          "metadata": {},
          "execution_count": 8
        }
      ]
    },
    {
      "cell_type": "code",
      "source": [],
      "metadata": {
        "id": "SBenUbf76zFh"
      },
      "execution_count": null,
      "outputs": []
    }
  ]
}