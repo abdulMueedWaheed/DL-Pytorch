{
  "nbformat": 4,
  "nbformat_minor": 0,
  "metadata": {
    "colab": {
      "provenance": [],
      "gpuType": "T4",
      "authorship_tag": "ABX9TyNSldhxtea3vBJslbdf+YQF",
      "include_colab_link": true
    },
    "kernelspec": {
      "name": "python3",
      "display_name": "Python 3"
    },
    "language_info": {
      "name": "python"
    },
    "accelerator": "GPU"
  },
  "cells": [
    {
      "cell_type": "markdown",
      "metadata": {
        "id": "view-in-github",
        "colab_type": "text"
      },
      "source": [
        "<a href=\"https://colab.research.google.com/github/abdulMueedWaheed/DL-Pytorch/blob/main/PyTorch_Fundamentals_NB_1.ipynb\" target=\"_parent\"><img src=\"https://colab.research.google.com/assets/colab-badge.svg\" alt=\"Open In Colab\"/></a>"
      ]
    },
    {
      "cell_type": "markdown",
      "source": [
        "## 0. PyTorch Fundamentals\n"
      ],
      "metadata": {
        "id": "Dp3I_sDvGmbj"
      }
    },
    {
      "cell_type": "markdown",
      "source": [
        "## Creating a tensor:\n",
        "Tensors are created using 'torch.Tensor()'"
      ],
      "metadata": {
        "id": "4ctaBJcmHAmF"
      }
    },
    {
      "cell_type": "code",
      "source": [
        "import torch\n",
        "import numpy as np\n",
        "import matplotlib.pyplot as plt\n",
        "import pandas as pd\n",
        "\n",
        "print(torch.__version__);"
      ],
      "metadata": {
        "id": "ogqYJlrNKTPL",
        "colab": {
          "base_uri": "https://localhost:8080/"
        },
        "outputId": "6e7f5c7c-9cd0-4c2c-c5c6-820ba63ddc6b"
      },
      "execution_count": 1,
      "outputs": [
        {
          "output_type": "stream",
          "name": "stdout",
          "text": [
            "2.6.0+cu124\n"
          ]
        }
      ]
    },
    {
      "cell_type": "code",
      "source": [
        "scalar = torch.tensor(7)\n",
        "scalar"
      ],
      "metadata": {
        "colab": {
          "base_uri": "https://localhost:8080/"
        },
        "id": "PAKQu66eP-yc",
        "outputId": "514ccc19-84c3-49a8-f687-faeca3c34614"
      },
      "execution_count": 2,
      "outputs": [
        {
          "output_type": "execute_result",
          "data": {
            "text/plain": [
              "tensor(7)"
            ]
          },
          "metadata": {},
          "execution_count": 2
        }
      ]
    },
    {
      "cell_type": "code",
      "source": [
        "scalar.ndim\n",
        "# 0, because it has no dimensions\n",
        "# It is a single number"
      ],
      "metadata": {
        "colab": {
          "base_uri": "https://localhost:8080/"
        },
        "id": "omE73mxBQMWb",
        "outputId": "3a3c1de8-d0a1-415e-db8c-6929bfeaa17b"
      },
      "execution_count": 3,
      "outputs": [
        {
          "output_type": "execute_result",
          "data": {
            "text/plain": [
              "0"
            ]
          },
          "metadata": {},
          "execution_count": 3
        }
      ]
    },
    {
      "cell_type": "code",
      "source": [
        "scalar.item()\n",
        "# turn scalar to Python int"
      ],
      "metadata": {
        "colab": {
          "base_uri": "https://localhost:8080/"
        },
        "id": "3ivHnrLbjqVX",
        "outputId": "b5b00b00-7982-44da-cd88-f417a683d6be"
      },
      "execution_count": 4,
      "outputs": [
        {
          "output_type": "execute_result",
          "data": {
            "text/plain": [
              "7"
            ]
          },
          "metadata": {},
          "execution_count": 4
        }
      ]
    },
    {
      "cell_type": "code",
      "source": [
        "vector = torch.tensor([7, 7])\n",
        "vector"
      ],
      "metadata": {
        "colab": {
          "base_uri": "https://localhost:8080/"
        },
        "id": "KA2HsqU8j0Xd",
        "outputId": "ff0b6398-f885-46ba-cfd1-51e9de9e9694"
      },
      "execution_count": 5,
      "outputs": [
        {
          "output_type": "execute_result",
          "data": {
            "text/plain": [
              "tensor([7, 7])"
            ]
          },
          "metadata": {},
          "execution_count": 5
        }
      ]
    },
    {
      "cell_type": "code",
      "source": [
        "vector.shape"
      ],
      "metadata": {
        "colab": {
          "base_uri": "https://localhost:8080/"
        },
        "id": "JQTKBNVQkADZ",
        "outputId": "cf7ebf1d-740f-455c-e6c5-06aef1aa4cf0"
      },
      "execution_count": 6,
      "outputs": [
        {
          "output_type": "execute_result",
          "data": {
            "text/plain": [
              "torch.Size([2])"
            ]
          },
          "metadata": {},
          "execution_count": 6
        }
      ]
    },
    {
      "cell_type": "code",
      "source": [
        "vector.ndim"
      ],
      "metadata": {
        "id": "f2rONidukF9a",
        "outputId": "50c59ddb-23cd-4576-bb35-92a2b5356f2e",
        "colab": {
          "base_uri": "https://localhost:8080/"
        }
      },
      "execution_count": 7,
      "outputs": [
        {
          "output_type": "execute_result",
          "data": {
            "text/plain": [
              "1"
            ]
          },
          "metadata": {},
          "execution_count": 7
        }
      ]
    },
    {
      "cell_type": "code",
      "source": [
        "# Matrix\n",
        "matrix = torch.tensor([[6, 7], [8, 9]]);\n",
        "matrix"
      ],
      "metadata": {
        "id": "XKPufLVqkHYZ",
        "colab": {
          "base_uri": "https://localhost:8080/"
        },
        "outputId": "548b0fa5-e7ee-4083-97d6-59fd5f950974"
      },
      "execution_count": 8,
      "outputs": [
        {
          "output_type": "execute_result",
          "data": {
            "text/plain": [
              "tensor([[6, 7],\n",
              "        [8, 9]])"
            ]
          },
          "metadata": {},
          "execution_count": 8
        }
      ]
    },
    {
      "cell_type": "code",
      "source": [
        "matrix.ndim"
      ],
      "metadata": {
        "colab": {
          "base_uri": "https://localhost:8080/"
        },
        "id": "a8V4nHSbRwjt",
        "outputId": "4c4f3ad5-799a-4a50-824f-28aafe95ed54"
      },
      "execution_count": 9,
      "outputs": [
        {
          "output_type": "execute_result",
          "data": {
            "text/plain": [
              "2"
            ]
          },
          "metadata": {},
          "execution_count": 9
        }
      ]
    },
    {
      "cell_type": "code",
      "source": [
        "matrix[1]"
      ],
      "metadata": {
        "colab": {
          "base_uri": "https://localhost:8080/"
        },
        "id": "2TsYtNShR9ez",
        "outputId": "99ec0aec-73dd-41ce-abd0-14a49caa27f5"
      },
      "execution_count": 10,
      "outputs": [
        {
          "output_type": "execute_result",
          "data": {
            "text/plain": [
              "tensor([8, 9])"
            ]
          },
          "metadata": {},
          "execution_count": 10
        }
      ]
    },
    {
      "cell_type": "code",
      "source": [
        "matrix.shape"
      ],
      "metadata": {
        "colab": {
          "base_uri": "https://localhost:8080/"
        },
        "id": "baYKivKwR_Q5",
        "outputId": "c8764888-a88b-4222-ddcc-13bd76621ec6"
      },
      "execution_count": 11,
      "outputs": [
        {
          "output_type": "execute_result",
          "data": {
            "text/plain": [
              "torch.Size([2, 2])"
            ]
          },
          "metadata": {},
          "execution_count": 11
        }
      ]
    },
    {
      "cell_type": "code",
      "source": [
        "# Tensor: -\n",
        "TENSOR = torch.tensor([[\n",
        "    [1, 2, 3],\n",
        "    [4, 5, 6],\n",
        "    [7, 8, 9]\n",
        "]]);\n",
        "TENSOR"
      ],
      "metadata": {
        "colab": {
          "base_uri": "https://localhost:8080/"
        },
        "id": "4zKuUQTLSCTM",
        "outputId": "35e51b8c-84d9-49f2-da48-cd8dd50dce8c"
      },
      "execution_count": 12,
      "outputs": [
        {
          "output_type": "execute_result",
          "data": {
            "text/plain": [
              "tensor([[[1, 2, 3],\n",
              "         [4, 5, 6],\n",
              "         [7, 8, 9]]])"
            ]
          },
          "metadata": {},
          "execution_count": 12
        }
      ]
    },
    {
      "cell_type": "code",
      "source": [
        "TENSOR.ndim"
      ],
      "metadata": {
        "colab": {
          "base_uri": "https://localhost:8080/"
        },
        "id": "cz13lY9rSfON",
        "outputId": "c13fe78b-a06c-400b-a5b5-0b137cfc37bd"
      },
      "execution_count": 13,
      "outputs": [
        {
          "output_type": "execute_result",
          "data": {
            "text/plain": [
              "3"
            ]
          },
          "metadata": {},
          "execution_count": 13
        }
      ]
    },
    {
      "cell_type": "code",
      "source": [
        "TENSOR.shape"
      ],
      "metadata": {
        "colab": {
          "base_uri": "https://localhost:8080/"
        },
        "id": "WnEyZVCpSjF2",
        "outputId": "ac5d8e3c-396c-41c6-cdca-b0ea902c88d3"
      },
      "execution_count": 14,
      "outputs": [
        {
          "output_type": "execute_result",
          "data": {
            "text/plain": [
              "torch.Size([1, 3, 3])"
            ]
          },
          "metadata": {},
          "execution_count": 14
        }
      ]
    },
    {
      "cell_type": "code",
      "source": [
        "TENSOR[0][0]"
      ],
      "metadata": {
        "colab": {
          "base_uri": "https://localhost:8080/"
        },
        "id": "IRrdG1YdSk88",
        "outputId": "fceee360-4d81-461d-de6b-72d8bb5792d0"
      },
      "execution_count": 15,
      "outputs": [
        {
          "output_type": "execute_result",
          "data": {
            "text/plain": [
              "tensor([1, 2, 3])"
            ]
          },
          "metadata": {},
          "execution_count": 15
        }
      ]
    },
    {
      "cell_type": "markdown",
      "source": [
        "![image.png](data:image/png;base64,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)"
      ],
      "metadata": {
        "id": "ZSTMVmXihjVK"
      }
    },
    {
      "cell_type": "code",
      "source": [
        "# trying to get creative with tensors: -\n",
        "TENS = torch.tensor(\n",
        "    [[[1, 2, 3],\n",
        "      [4, 5, 6],\n",
        "      [7, 8, 9]],\n",
        "\n",
        "     [[1, 2, 3],\n",
        "      [4, 5, 6],\n",
        "      [7, 8, 9]],\n",
        "\n",
        "     [[1, 2, 3],\n",
        "      [4, 5, 6],\n",
        "      [7, 8, 9]],\n",
        "     ]\n",
        ")\n",
        "\n",
        "TENS"
      ],
      "metadata": {
        "colab": {
          "base_uri": "https://localhost:8080/"
        },
        "id": "pY1yjnDMhnc4",
        "outputId": "1e29904c-12b6-490b-d1d1-2228ebeac11d"
      },
      "execution_count": 16,
      "outputs": [
        {
          "output_type": "execute_result",
          "data": {
            "text/plain": [
              "tensor([[[1, 2, 3],\n",
              "         [4, 5, 6],\n",
              "         [7, 8, 9]],\n",
              "\n",
              "        [[1, 2, 3],\n",
              "         [4, 5, 6],\n",
              "         [7, 8, 9]],\n",
              "\n",
              "        [[1, 2, 3],\n",
              "         [4, 5, 6],\n",
              "         [7, 8, 9]]])"
            ]
          },
          "metadata": {},
          "execution_count": 16
        }
      ]
    },
    {
      "cell_type": "code",
      "source": [
        "TENS.ndim"
      ],
      "metadata": {
        "colab": {
          "base_uri": "https://localhost:8080/"
        },
        "id": "4m8GljVC3L9N",
        "outputId": "9c32880e-0c22-458f-8140-e37d0715aea3"
      },
      "execution_count": 17,
      "outputs": [
        {
          "output_type": "execute_result",
          "data": {
            "text/plain": [
              "3"
            ]
          },
          "metadata": {},
          "execution_count": 17
        }
      ]
    },
    {
      "cell_type": "code",
      "source": [
        "TENS.shape"
      ],
      "metadata": {
        "colab": {
          "base_uri": "https://localhost:8080/"
        },
        "id": "-VjMhjLI3Nqs",
        "outputId": "12a2df43-709e-4739-cd76-c37be9f1d72d"
      },
      "execution_count": 18,
      "outputs": [
        {
          "output_type": "execute_result",
          "data": {
            "text/plain": [
              "torch.Size([3, 3, 3])"
            ]
          },
          "metadata": {},
          "execution_count": 18
        }
      ]
    },
    {
      "cell_type": "code",
      "source": [
        "TENS[1][1][2]"
      ],
      "metadata": {
        "colab": {
          "base_uri": "https://localhost:8080/"
        },
        "id": "YJBDy0c83Pee",
        "outputId": "08fbb798-0d6b-49eb-a32d-ab7be75894cc"
      },
      "execution_count": 19,
      "outputs": [
        {
          "output_type": "execute_result",
          "data": {
            "text/plain": [
              "tensor(6)"
            ]
          },
          "metadata": {},
          "execution_count": 19
        }
      ]
    },
    {
      "cell_type": "markdown",
      "source": [
        "## Random Tensors\n",
        "Random Tensors are important because they start with tensors full of \"random number\" and then \"adjust\" those random numbers to better represent the data.\n",
        "\n",
        "```\n",
        "Start with tensor (random) -> look at data <-> update data\n",
        "```\n"
      ],
      "metadata": {
        "id": "IYYe5BvV6ywE"
      }
    },
    {
      "cell_type": "code",
      "source": [
        "# creating a random tensor: -\n",
        "random_tensor = torch.rand(3, 4);\n",
        "random_tensor"
      ],
      "metadata": {
        "colab": {
          "base_uri": "https://localhost:8080/"
        },
        "id": "tNUq73SB69wc",
        "outputId": "ffb771fb-dab7-4bdb-c3c1-138945bd3040"
      },
      "execution_count": 20,
      "outputs": [
        {
          "output_type": "execute_result",
          "data": {
            "text/plain": [
              "tensor([[0.0424, 0.2971, 0.9065, 0.3911],\n",
              "        [0.9935, 0.7326, 0.6211, 0.5862],\n",
              "        [0.8711, 0.2080, 0.5598, 0.9720]])"
            ]
          },
          "metadata": {},
          "execution_count": 20
        }
      ]
    },
    {
      "cell_type": "code",
      "source": [
        "random_tensor.ndim"
      ],
      "metadata": {
        "colab": {
          "base_uri": "https://localhost:8080/"
        },
        "id": "xscOOEjs7n26",
        "outputId": "503f40db-6261-4fd7-c03e-4790de67c6c8"
      },
      "execution_count": 21,
      "outputs": [
        {
          "output_type": "execute_result",
          "data": {
            "text/plain": [
              "2"
            ]
          },
          "metadata": {},
          "execution_count": 21
        }
      ]
    },
    {
      "cell_type": "code",
      "source": [
        "random_tensor.shape"
      ],
      "metadata": {
        "colab": {
          "base_uri": "https://localhost:8080/"
        },
        "id": "wsf7i_wa70V6",
        "outputId": "5e8a5d52-78a1-48c2-fd55-4b2cd7b19451"
      },
      "execution_count": 22,
      "outputs": [
        {
          "output_type": "execute_result",
          "data": {
            "text/plain": [
              "torch.Size([3, 4])"
            ]
          },
          "metadata": {},
          "execution_count": 22
        }
      ]
    },
    {
      "cell_type": "code",
      "source": [
        "# create a random tensor the same size as an image: -\n",
        "random_img_size_tensor = torch.rand(size=(224, 224, 3));"
      ],
      "metadata": {
        "id": "Ez-sSOlk72KK"
      },
      "execution_count": 23,
      "outputs": []
    },
    {
      "cell_type": "code",
      "source": [
        "random_img_size_tensor"
      ],
      "metadata": {
        "colab": {
          "base_uri": "https://localhost:8080/"
        },
        "id": "UEpHJOD98aEj",
        "outputId": "70ef8784-6269-4ce2-f85d-ffb3acd60998"
      },
      "execution_count": 24,
      "outputs": [
        {
          "output_type": "execute_result",
          "data": {
            "text/plain": [
              "tensor([[[0.5703, 0.6503, 0.6588],\n",
              "         [0.7472, 0.4795, 0.5128],\n",
              "         [0.8147, 0.9534, 0.1480],\n",
              "         ...,\n",
              "         [0.8810, 0.3628, 0.7312],\n",
              "         [0.6229, 0.5680, 0.6966],\n",
              "         [0.6993, 0.9059, 0.1001]],\n",
              "\n",
              "        [[0.7023, 0.5655, 0.6464],\n",
              "         [0.1650, 0.6211, 0.1667],\n",
              "         [0.8804, 0.6029, 0.5312],\n",
              "         ...,\n",
              "         [0.5894, 0.1775, 0.2873],\n",
              "         [0.6582, 0.6314, 0.1890],\n",
              "         [0.0362, 0.0495, 0.7792]],\n",
              "\n",
              "        [[0.8893, 0.9793, 0.2881],\n",
              "         [0.9864, 0.2876, 0.2694],\n",
              "         [0.7371, 0.8665, 0.8048],\n",
              "         ...,\n",
              "         [0.7725, 0.1006, 0.3335],\n",
              "         [0.6101, 0.9842, 0.3242],\n",
              "         [0.7667, 0.4371, 0.7521]],\n",
              "\n",
              "        ...,\n",
              "\n",
              "        [[0.2169, 0.4656, 0.9695],\n",
              "         [0.1078, 0.4982, 0.0116],\n",
              "         [0.5310, 0.4084, 0.1403],\n",
              "         ...,\n",
              "         [0.0825, 0.0503, 0.0947],\n",
              "         [0.7097, 0.0364, 0.0761],\n",
              "         [0.5548, 0.8118, 0.0022]],\n",
              "\n",
              "        [[0.4170, 0.6815, 0.6080],\n",
              "         [0.2550, 0.8674, 0.5313],\n",
              "         [0.5077, 0.6537, 0.8560],\n",
              "         ...,\n",
              "         [0.9382, 0.6973, 0.8124],\n",
              "         [0.2411, 0.1120, 0.9816],\n",
              "         [0.1825, 0.6079, 0.1809]],\n",
              "\n",
              "        [[0.3935, 0.2303, 0.8520],\n",
              "         [0.5154, 0.4661, 0.6496],\n",
              "         [0.0595, 0.4360, 0.4452],\n",
              "         ...,\n",
              "         [0.4583, 0.9179, 0.5052],\n",
              "         [0.6661, 0.0660, 0.7843],\n",
              "         [0.9773, 0.2510, 0.9766]]])"
            ]
          },
          "metadata": {},
          "execution_count": 24
        }
      ]
    },
    {
      "cell_type": "code",
      "source": [
        "random_img_size_tensor.ndim\n",
        "random_img_size_tensor.shape"
      ],
      "metadata": {
        "colab": {
          "base_uri": "https://localhost:8080/"
        },
        "id": "rfAffUNY8kz3",
        "outputId": "d983b395-8a46-4f53-847c-9989738b75c8"
      },
      "execution_count": 25,
      "outputs": [
        {
          "output_type": "execute_result",
          "data": {
            "text/plain": [
              "torch.Size([224, 224, 3])"
            ]
          },
          "metadata": {},
          "execution_count": 25
        }
      ]
    },
    {
      "cell_type": "markdown",
      "source": [
        "## Zeros and Ones"
      ],
      "metadata": {
        "id": "nPZA5wTX8ntg"
      }
    },
    {
      "cell_type": "code",
      "source": [
        "#Create a tensor of all zeros\n",
        "zeros = torch.zeros(size=(3, 4));\n",
        "zeros"
      ],
      "metadata": {
        "colab": {
          "base_uri": "https://localhost:8080/"
        },
        "id": "ESgnUQ8gT2Lp",
        "outputId": "3e95f09c-09fe-4b5c-9083-299390e8d200"
      },
      "execution_count": 26,
      "outputs": [
        {
          "output_type": "execute_result",
          "data": {
            "text/plain": [
              "tensor([[0., 0., 0., 0.],\n",
              "        [0., 0., 0., 0.],\n",
              "        [0., 0., 0., 0.]])"
            ]
          },
          "metadata": {},
          "execution_count": 26
        }
      ]
    },
    {
      "cell_type": "code",
      "source": [
        "ones = torch.ones(size=(3, 4));\n",
        "ones"
      ],
      "metadata": {
        "colab": {
          "base_uri": "https://localhost:8080/"
        },
        "id": "gNmeO8j1T0dW",
        "outputId": "ae2792da-be34-4401-f34c-78ff9a37d731"
      },
      "execution_count": 27,
      "outputs": [
        {
          "output_type": "execute_result",
          "data": {
            "text/plain": [
              "tensor([[1., 1., 1., 1.],\n",
              "        [1., 1., 1., 1.],\n",
              "        [1., 1., 1., 1.]])"
            ]
          },
          "metadata": {},
          "execution_count": 27
        }
      ]
    },
    {
      "cell_type": "code",
      "source": [
        "ones.dtype"
      ],
      "metadata": {
        "colab": {
          "base_uri": "https://localhost:8080/"
        },
        "id": "KJRWhe2eUOAo",
        "outputId": "df0b0f07-fcf1-41e7-8dcd-9f88da01f701"
      },
      "execution_count": 28,
      "outputs": [
        {
          "output_type": "execute_result",
          "data": {
            "text/plain": [
              "torch.float32"
            ]
          },
          "metadata": {},
          "execution_count": 28
        }
      ]
    },
    {
      "cell_type": "markdown",
      "source": [
        "## Creating a range of tensors and Tensors like"
      ],
      "metadata": {
        "id": "ofC1mTUf5SE_"
      }
    },
    {
      "cell_type": "code",
      "source": [
        "oneToTen = torch.arange(1, 11)"
      ],
      "metadata": {
        "id": "hDlPVcfyUP32"
      },
      "execution_count": 29,
      "outputs": []
    },
    {
      "cell_type": "code",
      "source": [
        "ten_zeros = torch.zeros_like(oneToTen)\n",
        "ten_zeros"
      ],
      "metadata": {
        "colab": {
          "base_uri": "https://localhost:8080/"
        },
        "id": "OnFETaKR4x-p",
        "outputId": "22db942e-7e5c-47e8-d28e-ae6313574510"
      },
      "execution_count": 30,
      "outputs": [
        {
          "output_type": "execute_result",
          "data": {
            "text/plain": [
              "tensor([0, 0, 0, 0, 0, 0, 0, 0, 0, 0])"
            ]
          },
          "metadata": {},
          "execution_count": 30
        }
      ]
    },
    {
      "cell_type": "markdown",
      "source": [
        "## Tensor Dtypes\n",
        "**Note:** Tensor dtypes are one of the 3 big errors you are going to run in with pyTorch and Deep Learning...\n",
        "\n",
        "1. Tensor not right dType.\n",
        "2. Tensor not right shape.\n",
        "3. Tensor not on right device."
      ],
      "metadata": {
        "id": "U6ZH_iag7-6a"
      }
    },
    {
      "cell_type": "code",
      "source": [
        "# The parameters are important to be aware of...\n",
        "\n",
        "float32_tensor = torch.tensor([3.0, 6.0, 9.0],\n",
        "                              dtype=None, # What dtype is the tensor (e.g float32, float16)\n",
        "                              device=None, # What devive your Tensor lives on...\n",
        "                              requires_grad=False); #Wether or not to track gradients of a tensor...\n",
        "float32_tensor"
      ],
      "metadata": {
        "id": "SBenUbf76zFh",
        "colab": {
          "base_uri": "https://localhost:8080/"
        },
        "outputId": "ce8287ca-1969-4b29-8c16-8e886f2c18f9"
      },
      "execution_count": 31,
      "outputs": [
        {
          "output_type": "execute_result",
          "data": {
            "text/plain": [
              "tensor([3., 6., 9.])"
            ]
          },
          "metadata": {},
          "execution_count": 31
        }
      ]
    },
    {
      "cell_type": "code",
      "source": [
        "#3 main dtypes: 16 bit float (torch.float16), 32 bit float (torch.float32), 64 bit float (torch.float64)\n",
        "float32_tensor.dtype"
      ],
      "metadata": {
        "colab": {
          "base_uri": "https://localhost:8080/"
        },
        "id": "VSs4G5ZR8NSv",
        "outputId": "f65884e8-6223-4168-d573-b122fc0c13bb"
      },
      "execution_count": 32,
      "outputs": [
        {
          "output_type": "execute_result",
          "data": {
            "text/plain": [
              "torch.float32"
            ]
          },
          "metadata": {},
          "execution_count": 32
        }
      ]
    },
    {
      "cell_type": "code",
      "source": [
        "float16_tensor = torch.tensor ([1, 2, 3], dtype=torch.float16);\n",
        "float16_tensor"
      ],
      "metadata": {
        "colab": {
          "base_uri": "https://localhost:8080/"
        },
        "id": "scvgRaB9t-u4",
        "outputId": "bf84a188-f8ab-4032-b63c-bca59c11fd5c"
      },
      "execution_count": 33,
      "outputs": [
        {
          "output_type": "execute_result",
          "data": {
            "text/plain": [
              "tensor([1., 2., 3.], dtype=torch.float16)"
            ]
          },
          "metadata": {},
          "execution_count": 33
        }
      ]
    },
    {
      "cell_type": "code",
      "source": [
        "whytho = float16_tensor * float32_tensor"
      ],
      "metadata": {
        "id": "0L8s9Y9euIvJ"
      },
      "execution_count": 34,
      "outputs": []
    },
    {
      "cell_type": "code",
      "source": [
        "whytho.dtype"
      ],
      "metadata": {
        "colab": {
          "base_uri": "https://localhost:8080/"
        },
        "id": "f_7qlMksuMLO",
        "outputId": "0dbab302-8716-4144-fb00-022628528542"
      },
      "execution_count": 35,
      "outputs": [
        {
          "output_type": "execute_result",
          "data": {
            "text/plain": [
              "torch.float32"
            ]
          },
          "metadata": {},
          "execution_count": 35
        }
      ]
    },
    {
      "cell_type": "code",
      "source": [
        "int32_tensor = torch.tensor([4, 5, 6], dtype=torch.int32)\n",
        "int32_tensor"
      ],
      "metadata": {
        "colab": {
          "base_uri": "https://localhost:8080/"
        },
        "id": "GcrnMd_JuQ5G",
        "outputId": "51528668-1d46-4d5a-a2de-d76b92e87587"
      },
      "execution_count": 36,
      "outputs": [
        {
          "output_type": "execute_result",
          "data": {
            "text/plain": [
              "tensor([4, 5, 6], dtype=torch.int32)"
            ]
          },
          "metadata": {},
          "execution_count": 36
        }
      ]
    },
    {
      "cell_type": "markdown",
      "source": [
        "## Getting information from tensors\n",
        "\n",
        "Once you've created tensors (or someone else or a PyTorch module has created them for you), you might want to get some information from them.\n",
        "\n",
        "We've seen these before but three of the most common attributes you'll want to find out about tensors are:\n",
        "\n",
        "    shape - what shape is the tensor? (some operations require specific shape rules)\n",
        "    dtype - what datatype are the elements within the tensor stored in?\n",
        "    device - what device is the tensor stored on? (usually GPU or CPU)\n"
      ],
      "metadata": {
        "id": "xzYQw3Ijux96"
      }
    },
    {
      "cell_type": "code",
      "source": [
        "some_tensor = torch.rand(3, 4);\n",
        "\n",
        "print(some_tensor)\n",
        "print(f\"Shape of tensor: {some_tensor.shape}\") # .size() will give same result\n",
        "print(f\"Datatype of tensor: {some_tensor.dtype}\")\n",
        "print(f\"Device tensor is stored on: {some_tensor.device}\")"
      ],
      "metadata": {
        "colab": {
          "base_uri": "https://localhost:8080/"
        },
        "id": "w5yw-qSzD2ia",
        "outputId": "2be331bb-cefe-4281-e8b6-c7b48a19c290"
      },
      "execution_count": 37,
      "outputs": [
        {
          "output_type": "stream",
          "name": "stdout",
          "text": [
            "tensor([[0.5231, 0.7884, 0.2573, 0.6447],\n",
            "        [0.7469, 0.7931, 0.3359, 0.0177],\n",
            "        [0.3936, 0.3151, 0.0727, 0.1259]])\n",
            "Shape of tensor: torch.Size([3, 4])\n",
            "Datatype of tensor: torch.float32\n",
            "Device tensor is stored on: cpu\n"
          ]
        }
      ]
    },
    {
      "cell_type": "markdown",
      "source": [
        "## Common Errors: -\n",
        " ```\n",
        " Aside from shape issues (tensor shapes don't match up), two of the other most common issues you'll come across in PyTorch are datatype and device issues.\n",
        " ```"
      ],
      "metadata": {
        "id": "TMzCdyLcEECn"
      }
    },
    {
      "cell_type": "markdown",
      "source": [
        "## Manipulating Tensors: -\n",
        "\n",
        "In ML/DL all data is represented an tensors: images, video, text, audio, protein structures etc...\n",
        "\n",
        "A model learns by investigating those tensors and then performing some operations to create a representation of the patterns in the input data.\n",
        "\n",
        "They are some combination of:\n",
        "\n",
        "1. Addition\n",
        "2. Subtraction\n",
        "3. Multiplication (Element Wise)\n",
        "4. Matrix Multiplication\n",
        "5. Division"
      ],
      "metadata": {
        "id": "8ZanxQe5pkto"
      }
    },
    {
      "cell_type": "code",
      "source": [
        "# Addition\n",
        "tensor = torch.tensor([1, 2, 3])\n",
        "tensor + 10"
      ],
      "metadata": {
        "colab": {
          "base_uri": "https://localhost:8080/"
        },
        "id": "tDHzEgJiskUM",
        "outputId": "fa0d940c-f9a0-4429-eddc-477fc66ede2a"
      },
      "execution_count": 38,
      "outputs": [
        {
          "output_type": "execute_result",
          "data": {
            "text/plain": [
              "tensor([11, 12, 13])"
            ]
          },
          "metadata": {},
          "execution_count": 38
        }
      ]
    },
    {
      "cell_type": "code",
      "source": [
        "# Multiplication\n",
        "tensor * 10"
      ],
      "metadata": {
        "colab": {
          "base_uri": "https://localhost:8080/"
        },
        "id": "YJgNrVRatSn5",
        "outputId": "43e8946c-eb40-4e37-d78e-5c4f6f415926"
      },
      "execution_count": 39,
      "outputs": [
        {
          "output_type": "execute_result",
          "data": {
            "text/plain": [
              "tensor([10, 20, 30])"
            ]
          },
          "metadata": {},
          "execution_count": 39
        }
      ]
    },
    {
      "cell_type": "code",
      "source": [
        "# A tensor won't change until reassigned.\n",
        "# You can also use torch functions\n",
        "\n",
        "torch.multiply(tensor, 10), torch.add(tensor, 10)"
      ],
      "metadata": {
        "colab": {
          "base_uri": "https://localhost:8080/"
        },
        "id": "7kD0tun3tXHs",
        "outputId": "1dfca699-2ed4-49c9-b09f-1fd1ef4f4fe7"
      },
      "execution_count": 40,
      "outputs": [
        {
          "output_type": "execute_result",
          "data": {
            "text/plain": [
              "(tensor([10, 20, 30]), tensor([11, 12, 13]))"
            ]
          },
          "metadata": {},
          "execution_count": 40
        }
      ]
    },
    {
      "cell_type": "code",
      "source": [
        "# This doesn't change the original tensors:\n",
        "tensor"
      ],
      "metadata": {
        "colab": {
          "base_uri": "https://localhost:8080/"
        },
        "id": "XQk_YGcst6KC",
        "outputId": "1d12de35-fb54-4ae0-8cf5-e5a77809363c"
      },
      "execution_count": 41,
      "outputs": [
        {
          "output_type": "execute_result",
          "data": {
            "text/plain": [
              "tensor([1, 2, 3])"
            ]
          },
          "metadata": {},
          "execution_count": 41
        }
      ]
    },
    {
      "cell_type": "code",
      "source": [
        "# Let's do element wise multiplication...\n",
        "tensor * tensor"
      ],
      "metadata": {
        "colab": {
          "base_uri": "https://localhost:8080/"
        },
        "id": "0w0v4877t--c",
        "outputId": "6763d63d-acbd-4587-af34-82f8036ab40e"
      },
      "execution_count": 42,
      "outputs": [
        {
          "output_type": "execute_result",
          "data": {
            "text/plain": [
              "tensor([1, 4, 9])"
            ]
          },
          "metadata": {},
          "execution_count": 42
        }
      ]
    },
    {
      "cell_type": "code",
      "source": [
        "try:\n",
        "  newTensor = torch.tensor([1, 2, 3, 4])\n",
        "  tensor * newTensor # will throw error\n",
        "except:\n",
        "  print(\"The size of tensor a (3) must match the size of tensor b (4) at non-singleton dimension 0\")"
      ],
      "metadata": {
        "colab": {
          "base_uri": "https://localhost:8080/"
        },
        "collapsed": true,
        "id": "jVXktXgXuccF",
        "outputId": "41d8204a-6106-4d17-a15a-3df456874e4d"
      },
      "execution_count": 43,
      "outputs": [
        {
          "output_type": "stream",
          "name": "stdout",
          "text": [
            "The size of tensor a (3) must match the size of tensor b (4) at non-singleton dimension 0\n"
          ]
        }
      ]
    },
    {
      "cell_type": "markdown",
      "source": [
        "## Matrix Multiplication - one of the most important operations in ML/DL.\n",
        "\n",
        "It's all you need. PyTorch implements this functionality in the ``` torch.matmul() ``` method.\n",
        "\n",
        "You need to remember two important rules: -\n",
        "\n",
        "1. Inner Dimensions must match (Cols of first tensor to Rows of next (for 2d tensors))\n",
        "\n",
        "```(3, 2) @ (3, 2)``` won't work\n",
        "\n",
        "```(3, 2) @ (2, 3)``` will work\n",
        "\n",
        "2. The resulting matrix has shape of outer dimensions...\n",
        "\n",
        "```(2, 3) @ (3, 2) -> (2, 2)```\n",
        "\n",
        "```(3, 2) @ (2, 3) -> (3, 3)```"
      ],
      "metadata": {
        "id": "Yc18oPcJuk2f"
      }
    },
    {
      "cell_type": "code",
      "source": [
        "## Let's try it...\n",
        "\n",
        "tensor * tensor, tensor @ tensor"
      ],
      "metadata": {
        "colab": {
          "base_uri": "https://localhost:8080/"
        },
        "id": "KMnMalbPwMEk",
        "outputId": "ba40f368-f51f-4a43-f8ca-5ba9c039172b"
      },
      "execution_count": 44,
      "outputs": [
        {
          "output_type": "execute_result",
          "data": {
            "text/plain": [
              "(tensor([1, 4, 9]), tensor(14))"
            ]
          },
          "metadata": {},
          "execution_count": 44
        }
      ]
    },
    {
      "cell_type": "code",
      "source": [
        "torch.matmul(tensor, tensor)"
      ],
      "metadata": {
        "colab": {
          "base_uri": "https://localhost:8080/"
        },
        "id": "IfZ6_3JWxqQg",
        "outputId": "5a77ebe1-99af-4f18-f415-2a8e890a69bd"
      },
      "execution_count": 45,
      "outputs": [
        {
          "output_type": "execute_result",
          "data": {
            "text/plain": [
              "tensor(14)"
            ]
          },
          "metadata": {},
          "execution_count": 45
        }
      ]
    },
    {
      "cell_type": "markdown",
      "source": [
        "You can do matrix multiplication by hand but it's not recommended.\n",
        "\n",
        "The in-built  ```torch.matmul()```   method is faster.\n"
      ],
      "metadata": {
        "id": "5l5K_5eixsys"
      }
    },
    {
      "cell_type": "code",
      "source": [
        "%%time\n",
        "\n",
        "value = 0\n",
        "for i in range(len(tensor)):\n",
        "  value += tensor[i] * tensor[i]\n",
        "value"
      ],
      "metadata": {
        "colab": {
          "base_uri": "https://localhost:8080/"
        },
        "id": "4uMtgCAwx6QW",
        "outputId": "e1b65521-79b5-4982-dcc1-ea58ad2361c6"
      },
      "execution_count": 46,
      "outputs": [
        {
          "output_type": "stream",
          "name": "stdout",
          "text": [
            "CPU times: user 163 µs, sys: 20 µs, total: 183 µs\n",
            "Wall time: 186 µs\n"
          ]
        },
        {
          "output_type": "execute_result",
          "data": {
            "text/plain": [
              "tensor(14)"
            ]
          },
          "metadata": {},
          "execution_count": 46
        }
      ]
    },
    {
      "cell_type": "code",
      "source": [
        "%%time\n",
        "torch.matmul(tensor, tensor)"
      ],
      "metadata": {
        "colab": {
          "base_uri": "https://localhost:8080/"
        },
        "id": "aTnH4b-_yFRn",
        "outputId": "29d14a2a-b2c5-4cad-b5f1-dcdda0854799"
      },
      "execution_count": 47,
      "outputs": [
        {
          "output_type": "stream",
          "name": "stdout",
          "text": [
            "CPU times: user 31 µs, sys: 4 µs, total: 35 µs\n",
            "Wall time: 38.1 µs\n"
          ]
        },
        {
          "output_type": "execute_result",
          "data": {
            "text/plain": [
              "tensor(14)"
            ]
          },
          "metadata": {},
          "execution_count": 47
        }
      ]
    },
    {
      "cell_type": "markdown",
      "source": [
        "## Shape Errors\n",
        "\n",
        "Because much of deep learning is multiplying and performing operations on matrices and matrices have a strict rule about what shapes and sizes can be combined, one of the most common errors you'll run into in deep learning is shape mismatches."
      ],
      "metadata": {
        "id": "koqnyLVByIz4"
      }
    },
    {
      "cell_type": "code",
      "source": [
        "try:\n",
        "  tensor_A = torch.tensor([[1, 2],\n",
        "                          [3, 4],\n",
        "                          [5, 6]], dtype=torch.float32)\n",
        "\n",
        "  tensor_B = torch.tensor([[7, 10],\n",
        "                          [8, 11],\n",
        "                          [9, 12]], dtype=torch.float32)\n",
        "\n",
        "  torch.matmul(tensor_A, tensor_B) # (this will error)\n",
        "except:\n",
        "  print(\"Error\")"
      ],
      "metadata": {
        "colab": {
          "base_uri": "https://localhost:8080/"
        },
        "id": "DGa1wUkYyS-q",
        "outputId": "8cb7bafc-b31a-4591-dbd7-b876d4efe63a"
      },
      "execution_count": 48,
      "outputs": [
        {
          "output_type": "stream",
          "name": "stdout",
          "text": [
            "Error\n"
          ]
        }
      ]
    },
    {
      "cell_type": "markdown",
      "source": [
        "We can make matrix multiplication work between ```tensor_A``` and ```tensor_B``` by making their inner dimensions match.\n",
        "\n",
        "One of the ways to do this is with a transpose (switch the dimensions of a given tensor).\n",
        "\n",
        "You can perform transposes in PyTorch using either:\n",
        "\n",
        "1. ```torch.transpose(input, dim0, dim1) ``` - where ```input``` is the desired tensor to transpose and ```dim0``` and ```dim1``` are the dimensions to be swapped.\n",
        "\n",
        "2. ```tensor.T``` where ```tensor``` is the desired tensor to transpose\n"
      ],
      "metadata": {
        "id": "JP9EAJgAyawE"
      }
    },
    {
      "cell_type": "code",
      "source": [
        "print(tensor_A)\n",
        "print(tensor_B)"
      ],
      "metadata": {
        "colab": {
          "base_uri": "https://localhost:8080/"
        },
        "id": "3qvTOzaDyWou",
        "outputId": "6e03aa55-ef26-47b6-ff5a-8639e1d8b434"
      },
      "execution_count": 49,
      "outputs": [
        {
          "output_type": "stream",
          "name": "stdout",
          "text": [
            "tensor([[1., 2.],\n",
            "        [3., 4.],\n",
            "        [5., 6.]])\n",
            "tensor([[ 7., 10.],\n",
            "        [ 8., 11.],\n",
            "        [ 9., 12.]])\n"
          ]
        }
      ]
    },
    {
      "cell_type": "code",
      "source": [
        "print(tensor_A.T)\n",
        "print(tensor_B.T)"
      ],
      "metadata": {
        "colab": {
          "base_uri": "https://localhost:8080/"
        },
        "id": "e5ouKsC63Bhy",
        "outputId": "5eecf875-6f3e-4594-acd4-20aab1e643e7"
      },
      "execution_count": 50,
      "outputs": [
        {
          "output_type": "stream",
          "name": "stdout",
          "text": [
            "tensor([[1., 3., 5.],\n",
            "        [2., 4., 6.]])\n",
            "tensor([[ 7.,  8.,  9.],\n",
            "        [10., 11., 12.]])\n"
          ]
        }
      ]
    },
    {
      "cell_type": "code",
      "source": [
        "# The operation works when tensor_B is transposed\n",
        "print(f\"Original shapes: tensor_A = {tensor_A.shape}, tensor_B = {tensor_B.shape}\\n\")\n",
        "print(f\"New shapes: tensor_A = {tensor_A.shape} (same as above), tensor_B.T = {tensor_B.T.shape}\\n\")\n",
        "print(f\"Multiplying: {tensor_A.shape} * {tensor_B.T.shape} <- inner dimensions match\\n\")\n",
        "print(\"Output:\\n\")\n",
        "output = torch.matmul(tensor_A, tensor_B.T)\n",
        "print(output)\n",
        "print(f\"\\nOutput shape: {output.shape}\")"
      ],
      "metadata": {
        "colab": {
          "base_uri": "https://localhost:8080/"
        },
        "id": "Ovlh_3kA3GZ5",
        "outputId": "d1f99fc0-7f83-49c6-c3d9-1a70eac322da"
      },
      "execution_count": 51,
      "outputs": [
        {
          "output_type": "stream",
          "name": "stdout",
          "text": [
            "Original shapes: tensor_A = torch.Size([3, 2]), tensor_B = torch.Size([3, 2])\n",
            "\n",
            "New shapes: tensor_A = torch.Size([3, 2]) (same as above), tensor_B.T = torch.Size([2, 3])\n",
            "\n",
            "Multiplying: torch.Size([3, 2]) * torch.Size([2, 3]) <- inner dimensions match\n",
            "\n",
            "Output:\n",
            "\n",
            "tensor([[ 27.,  30.,  33.],\n",
            "        [ 61.,  68.,  75.],\n",
            "        [ 95., 106., 117.]])\n",
            "\n",
            "Output shape: torch.Size([3, 3])\n"
          ]
        }
      ]
    },
    {
      "cell_type": "code",
      "source": [
        "# torch.mm\n",
        "torch.mm(tensor_A, tensor_B.T)"
      ],
      "metadata": {
        "colab": {
          "base_uri": "https://localhost:8080/"
        },
        "id": "SXPS9q0t3Zw4",
        "outputId": "4b26bf24-9cee-4c93-c858-ff548c2d3171"
      },
      "execution_count": 52,
      "outputs": [
        {
          "output_type": "execute_result",
          "data": {
            "text/plain": [
              "tensor([[ 27.,  30.,  33.],\n",
              "        [ 61.,  68.,  75.],\n",
              "        [ 95., 106., 117.]])"
            ]
          },
          "metadata": {},
          "execution_count": 52
        }
      ]
    },
    {
      "cell_type": "markdown",
      "source": [
        "Neural networks are full of matrix multiplications and dot products.\n",
        "\n",
        "The ```torch.nn.Linear()``` module, also known as a feed-forward layer or fully connected layer, implements a matrix multiplication between an input ```x``` and a weights matrix ```A```.\n",
        "\n",
        "![image.png](data:image/png;base64,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)\n",
        "\n",
        "Where:\n",
        "- ```x``` is the input to the layer.\n",
        "\n",
        "- ```A``` is the weights matrix created by the layer - this starts out as a matrix of random numbers that gets adjusted as the neural network learns to better represent the patterns in the data.\n",
        "- ```b``` is the bias term to offset the weights and the inputs.\n",
        "- ```y``` is the ouput."
      ],
      "metadata": {
        "id": "qEAKC4PD3xPf"
      }
    },
    {
      "cell_type": "code",
      "source": [
        "# Since the linear layer starts with a random weights matrix, let's make it reproducible (more on this later)\n",
        "torch.manual_seed(42)\n",
        "# This uses matrix multiplication\n",
        "linear = torch.nn.Linear(in_features=2, # in_features = matches inner dimension of input\n",
        "                         out_features=6) # out_features = describes outer value\n",
        "x = tensor_A\n",
        "output = linear(x)\n",
        "print(f\"Input shape: {x.shape}\\n\")\n",
        "print(f\"Output:\\n{output}\\n\\nOutput shape: {output.shape}\")\n"
      ],
      "metadata": {
        "colab": {
          "base_uri": "https://localhost:8080/"
        },
        "id": "ATC5ZePnVVX-",
        "outputId": "2b02abb1-726c-402e-c4e5-a79587f2907b"
      },
      "execution_count": 53,
      "outputs": [
        {
          "output_type": "stream",
          "name": "stdout",
          "text": [
            "Input shape: torch.Size([3, 2])\n",
            "\n",
            "Output:\n",
            "tensor([[2.2368, 1.2292, 0.4714, 0.3864, 0.1309, 0.9838],\n",
            "        [4.4919, 2.1970, 0.4469, 0.5285, 0.3401, 2.4777],\n",
            "        [6.7469, 3.1648, 0.4224, 0.6705, 0.5493, 3.9716]],\n",
            "       grad_fn=<AddmmBackward0>)\n",
            "\n",
            "Output shape: torch.Size([3, 6])\n"
          ]
        }
      ]
    },
    {
      "cell_type": "markdown",
      "source": [
        "```Question: What happens if you change in_features from 2 to 3 above? Does it error? How could you change the shape of the input (x) to accommodate to the error?```\n",
        "\n",
        "Answer:\n",
        "\n",
        "If you change in_features=2 to in_features=3, it will raise an error unless you also update the input x to match the expected input shape."
      ],
      "metadata": {
        "id": "G9oFF9_HWeeo"
      }
    },
    {
      "cell_type": "markdown",
      "source": [
        "## Finding the min, max, mean, sum, etc (aggregation)\n",
        "\n"
      ],
      "metadata": {
        "id": "s6oG_Z1Xcru8"
      }
    },
    {
      "cell_type": "code",
      "source": [
        "x = torch.arange(0, 100, 10);\n",
        "x"
      ],
      "metadata": {
        "id": "MeTFWqJTcuWw",
        "colab": {
          "base_uri": "https://localhost:8080/"
        },
        "outputId": "739a0a56-f024-4b0d-fdf1-cad51a801c06"
      },
      "execution_count": 54,
      "outputs": [
        {
          "output_type": "execute_result",
          "data": {
            "text/plain": [
              "tensor([ 0, 10, 20, 30, 40, 50, 60, 70, 80, 90])"
            ]
          },
          "metadata": {},
          "execution_count": 54
        }
      ]
    },
    {
      "cell_type": "code",
      "source": [
        "x.min(), x.max(), x.type(torch.float32).mean(), x.sum()"
      ],
      "metadata": {
        "colab": {
          "base_uri": "https://localhost:8080/"
        },
        "id": "82EwY2S_Wj6i",
        "outputId": "a6007703-9d1a-4493-ff9f-0691e6fd84da"
      },
      "execution_count": 55,
      "outputs": [
        {
          "output_type": "execute_result",
          "data": {
            "text/plain": [
              "(tensor(0), tensor(90), tensor(45.), tensor(450))"
            ]
          },
          "metadata": {},
          "execution_count": 55
        }
      ]
    },
    {
      "cell_type": "code",
      "source": [
        "torch.max(x), torch.min(x), torch.mean(x.type(torch.float32)), torch.sum(x)"
      ],
      "metadata": {
        "colab": {
          "base_uri": "https://localhost:8080/"
        },
        "id": "oIL95z75WyJu",
        "outputId": "b98efcc5-0664-4dc5-afe2-abd6b086483c"
      },
      "execution_count": 56,
      "outputs": [
        {
          "output_type": "execute_result",
          "data": {
            "text/plain": [
              "(tensor(90), tensor(0), tensor(45.), tensor(450))"
            ]
          },
          "metadata": {},
          "execution_count": 56
        }
      ]
    },
    {
      "cell_type": "code",
      "source": [
        "# Getting index of max and min values:\n",
        "\n",
        "print(f\"Index where max value occurs: {x.argmax()}\")\n",
        "print(f\"Index where min value occurs: {x.argmin()}\")"
      ],
      "metadata": {
        "colab": {
          "base_uri": "https://localhost:8080/"
        },
        "id": "c1r-gv9LW2Qx",
        "outputId": "22bfd16a-c681-4fda-a7dc-a3c3dca0f7ff"
      },
      "execution_count": 57,
      "outputs": [
        {
          "output_type": "stream",
          "name": "stdout",
          "text": [
            "Index where max value occurs: 9\n",
            "Index where min value occurs: 0\n"
          ]
        }
      ]
    },
    {
      "cell_type": "markdown",
      "source": [
        "## Changing Tensor datatype\n",
        "You can change the datatypes of tensors using ```torch.Tensor.type(dtype=None)``` where the dtype parameter is the datatype you'd like to use."
      ],
      "metadata": {
        "id": "AjZQIoeicRoj"
      }
    },
    {
      "cell_type": "code",
      "source": [
        "tensor = torch.arange(10., 100., 10.);\n",
        "tensor, tensor.dtype"
      ],
      "metadata": {
        "colab": {
          "base_uri": "https://localhost:8080/"
        },
        "id": "SbqY1RQfXDhZ",
        "outputId": "47e3a2bd-685d-4310-ef56-ea0bbaf94d59"
      },
      "execution_count": 58,
      "outputs": [
        {
          "output_type": "execute_result",
          "data": {
            "text/plain": [
              "(tensor([10., 20., 30., 40., 50., 60., 70., 80., 90.]), torch.float32)"
            ]
          },
          "metadata": {},
          "execution_count": 58
        }
      ]
    },
    {
      "cell_type": "code",
      "source": [
        "tensor_float16 = tensor.type(torch.float16)\n",
        "tensor_float16"
      ],
      "metadata": {
        "colab": {
          "base_uri": "https://localhost:8080/"
        },
        "id": "cpouxCHUcIKF",
        "outputId": "c73d3bd1-e7a3-4054-8ff2-d835080392fb"
      },
      "execution_count": 59,
      "outputs": [
        {
          "output_type": "execute_result",
          "data": {
            "text/plain": [
              "tensor([10., 20., 30., 40., 50., 60., 70., 80., 90.], dtype=torch.float16)"
            ]
          },
          "metadata": {},
          "execution_count": 59
        }
      ]
    },
    {
      "cell_type": "markdown",
      "source": [
        "## Reshaping, Stacking, Squeezing and Unsqueezing\n",
        "\n",
        "- Reshaping: Reshapes an input tensor into a defined shape.\n",
        "\n",
        "- View: Return a view of an input tensor in a certain shape, but keep the same memory as the original tensor.\n",
        "\n",
        "- Stacking: combine multiple tensors on top of each other (vstack), side by side (hstack) or in any dimension (stack).\n",
        "\n",
        "- Squeeze: removes all `1` dimensions from a tensor.\n",
        "\n",
        "- Unsqueeze: Add a `1` dimension to a tensor.\n",
        "\n",
        "- Permute: Return a view of the input with the dimensions in a certain permutation (swapped).\n",
        "\n",
        "![image.png](data:image/png;base64,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)"
      ],
      "metadata": {
        "id": "-sb05AydcpBU"
      }
    },
    {
      "cell_type": "code",
      "source": [
        "x = torch.arange(1., 13.)\n",
        "x, x.shape"
      ],
      "metadata": {
        "colab": {
          "base_uri": "https://localhost:8080/"
        },
        "id": "rNVE9Ii9gkSc",
        "outputId": "6016759e-ac2e-43b2-fd25-80275bc702b7"
      },
      "execution_count": 60,
      "outputs": [
        {
          "output_type": "execute_result",
          "data": {
            "text/plain": [
              "(tensor([ 1.,  2.,  3.,  4.,  5.,  6.,  7.,  8.,  9., 10., 11., 12.]),\n",
              " torch.Size([12]))"
            ]
          },
          "metadata": {},
          "execution_count": 60
        }
      ]
    },
    {
      "cell_type": "code",
      "source": [
        "# Adding an extra dimension with torch.reshape()\n",
        "\n",
        "x_reshaped = x.reshape(1, 12)\n",
        "x_reshaped, x_reshaped.shape"
      ],
      "metadata": {
        "colab": {
          "base_uri": "https://localhost:8080/"
        },
        "id": "CFlAJ5Rmi6nU",
        "outputId": "65609db1-7e4d-4521-da9b-218c0ff31392"
      },
      "execution_count": 61,
      "outputs": [
        {
          "output_type": "execute_result",
          "data": {
            "text/plain": [
              "(tensor([[ 1.,  2.,  3.,  4.,  5.,  6.,  7.,  8.,  9., 10., 11., 12.]]),\n",
              " torch.Size([1, 12]))"
            ]
          },
          "metadata": {},
          "execution_count": 61
        }
      ]
    },
    {
      "cell_type": "code",
      "source": [
        "x_reshaped1 = x.reshape(2, 6)\n",
        "x_reshaped1, x_reshaped1.shape"
      ],
      "metadata": {
        "colab": {
          "base_uri": "https://localhost:8080/"
        },
        "id": "g-BwnjnHjMWH",
        "outputId": "399132b5-5758-4429-ea6b-670dd6220d68"
      },
      "execution_count": 62,
      "outputs": [
        {
          "output_type": "execute_result",
          "data": {
            "text/plain": [
              "(tensor([[ 1.,  2.,  3.,  4.,  5.,  6.],\n",
              "         [ 7.,  8.,  9., 10., 11., 12.]]),\n",
              " torch.Size([2, 6]))"
            ]
          },
          "metadata": {},
          "execution_count": 62
        }
      ]
    },
    {
      "cell_type": "code",
      "source": [
        "x_reshaped2 = x.reshape(3, 4)\n",
        "x_reshaped2, x_reshaped2.shape"
      ],
      "metadata": {
        "colab": {
          "base_uri": "https://localhost:8080/"
        },
        "id": "tnL48o8zjmFS",
        "outputId": "b87430d1-6d37-46e9-9440-671ba65b4797"
      },
      "execution_count": 63,
      "outputs": [
        {
          "output_type": "execute_result",
          "data": {
            "text/plain": [
              "(tensor([[ 1.,  2.,  3.,  4.],\n",
              "         [ 5.,  6.,  7.,  8.],\n",
              "         [ 9., 10., 11., 12.]]),\n",
              " torch.Size([3, 4]))"
            ]
          },
          "metadata": {},
          "execution_count": 63
        }
      ]
    },
    {
      "cell_type": "code",
      "source": [
        "# Change view (keeps same data as original but changes view)\n",
        "\n",
        "z = x.view(1, 12)\n",
        "z, z.shape"
      ],
      "metadata": {
        "colab": {
          "base_uri": "https://localhost:8080/"
        },
        "id": "kDmQorGRjqMr",
        "outputId": "fde12220-e204-4570-ef01-fbe7aa0b1597"
      },
      "execution_count": 64,
      "outputs": [
        {
          "output_type": "execute_result",
          "data": {
            "text/plain": [
              "(tensor([[ 1.,  2.,  3.,  4.,  5.,  6.,  7.,  8.,  9., 10., 11., 12.]]),\n",
              " torch.Size([1, 12]))"
            ]
          },
          "metadata": {},
          "execution_count": 64
        }
      ]
    },
    {
      "cell_type": "code",
      "source": [
        "# Remember though, changing the view of a tensor with torch.view() really only creates a new view of the same tensor.\n",
        "# So changing the view changes the original tensor too.\n",
        "\n",
        "z[:, 0] = 5\n",
        "z, x"
      ],
      "metadata": {
        "colab": {
          "base_uri": "https://localhost:8080/"
        },
        "id": "D3xzFRrSlf67",
        "outputId": "d2b79a0e-a8a7-4286-fd1e-e199953af38b"
      },
      "execution_count": 65,
      "outputs": [
        {
          "output_type": "execute_result",
          "data": {
            "text/plain": [
              "(tensor([[ 5.,  2.,  3.,  4.,  5.,  6.,  7.,  8.,  9., 10., 11., 12.]]),\n",
              " tensor([ 5.,  2.,  3.,  4.,  5.,  6.,  7.,  8.,  9., 10., 11., 12.]))"
            ]
          },
          "metadata": {},
          "execution_count": 65
        }
      ]
    },
    {
      "cell_type": "code",
      "source": [
        "# To do so you can use torch.squeeze()\n",
        "# (I remember this as squeezing the tensor to only have dimensions over 1).\n",
        "\n",
        "print(f\"Previous tensor: {x_reshaped}\")\n",
        "print(f\"Previous shape: {x_reshaped.shape}\")\n",
        "\n",
        "# Remove extra dimension from x_reshaped\n",
        "x_squeezed = x_reshaped.squeeze()\n",
        "print(f\"\\nNew tensor: {x_squeezed}\")\n",
        "print(f\"New shape: {x_squeezed.shape}\")"
      ],
      "metadata": {
        "colab": {
          "base_uri": "https://localhost:8080/"
        },
        "id": "4DqgWuqllntg",
        "outputId": "50f21417-4beb-44e9-9d41-652989e2907b"
      },
      "execution_count": 66,
      "outputs": [
        {
          "output_type": "stream",
          "name": "stdout",
          "text": [
            "Previous tensor: tensor([[ 5.,  2.,  3.,  4.,  5.,  6.,  7.,  8.,  9., 10., 11., 12.]])\n",
            "Previous shape: torch.Size([1, 12])\n",
            "\n",
            "New tensor: tensor([ 5.,  2.,  3.,  4.,  5.,  6.,  7.,  8.,  9., 10., 11., 12.])\n",
            "New shape: torch.Size([12])\n"
          ]
        }
      ]
    },
    {
      "cell_type": "code",
      "source": [
        "# And to do the reverse of torch.squeeze() you can use torch.unsqueeze()\n",
        "# to add a dimension value of 1 at a specific index.\n",
        "\n",
        "print(f\"Previous tensor: {x_squeezed}\")\n",
        "print(f\"Previous shape: {x_squeezed.shape}\")\n",
        "\n",
        "## Add an extra dimension with unsqueeze\n",
        "x_unsqueezed = x_squeezed.unsqueeze(dim=0)\n",
        "print(f\"\\nNew tensor: {x_unsqueezed}\")\n",
        "print(f\"New shape: {x_unsqueezed.shape}\")"
      ],
      "metadata": {
        "colab": {
          "base_uri": "https://localhost:8080/"
        },
        "id": "MqPJQAvwmr2e",
        "outputId": "b894f800-b031-4ef2-dbf5-5d08784c3dc5"
      },
      "execution_count": 67,
      "outputs": [
        {
          "output_type": "stream",
          "name": "stdout",
          "text": [
            "Previous tensor: tensor([ 5.,  2.,  3.,  4.,  5.,  6.,  7.,  8.,  9., 10., 11., 12.])\n",
            "Previous shape: torch.Size([12])\n",
            "\n",
            "New tensor: tensor([[ 5.,  2.,  3.,  4.,  5.,  6.,  7.,  8.,  9., 10., 11., 12.]])\n",
            "New shape: torch.Size([1, 12])\n"
          ]
        }
      ]
    },
    {
      "cell_type": "code",
      "source": [
        "# Create tensor with specific shape\n",
        "x_original = torch.rand(size=(224, 20, 3))\n",
        "\n",
        "# Permute the original tensor to rearrange the axis order\n",
        "x_permuted = x_original.permute(2, 0, 1) # shifts axis 0->1, 1->2, 2->0\n",
        "\n",
        "print(f\"Previous shape: {x_original.shape}\")\n",
        "print(f\"New shape: {x_permuted.shape}\")"
      ],
      "metadata": {
        "id": "tWevmBSFm0uz",
        "colab": {
          "base_uri": "https://localhost:8080/"
        },
        "outputId": "fc4b235b-5f01-4a62-f707-556208a50bba"
      },
      "execution_count": 68,
      "outputs": [
        {
          "output_type": "stream",
          "name": "stdout",
          "text": [
            "Previous shape: torch.Size([224, 20, 3])\n",
            "New shape: torch.Size([3, 224, 20])\n"
          ]
        }
      ]
    },
    {
      "cell_type": "markdown",
      "source": [
        "## Indexing (selecting data from tensors)\n",
        "\n",
        "Same as indexing in arrays :)"
      ],
      "metadata": {
        "id": "sMbtOJ3hBS7i"
      }
    },
    {
      "cell_type": "code",
      "source": [
        "x = torch.arange(1, 10).reshape(1, 3, 3) # the parameters just need to multiply upto the total elements\n",
        "x, x.shape"
      ],
      "metadata": {
        "colab": {
          "base_uri": "https://localhost:8080/"
        },
        "id": "x-HYPjWNBXsh",
        "outputId": "26dc5241-ef7b-41cc-d024-e3f0d54ad252"
      },
      "execution_count": 69,
      "outputs": [
        {
          "output_type": "execute_result",
          "data": {
            "text/plain": [
              "(tensor([[[1, 2, 3],\n",
              "          [4, 5, 6],\n",
              "          [7, 8, 9]]]),\n",
              " torch.Size([1, 3, 3]))"
            ]
          },
          "metadata": {},
          "execution_count": 69
        }
      ]
    },
    {
      "cell_type": "code",
      "source": [
        "# Try to select 8: -\n",
        "x[0][2][1]"
      ],
      "metadata": {
        "colab": {
          "base_uri": "https://localhost:8080/"
        },
        "id": "iY-_NOdfBqLT",
        "outputId": "703b1865-421f-4e42-cdd2-11f3e381fb0c"
      },
      "execution_count": 70,
      "outputs": [
        {
          "output_type": "execute_result",
          "data": {
            "text/plain": [
              "tensor(8)"
            ]
          },
          "metadata": {},
          "execution_count": 70
        }
      ]
    },
    {
      "cell_type": "code",
      "source": [
        "x = torch.arange(1, 17).reshape(2, 2, 2, 2)\n",
        "x, x.shape"
      ],
      "metadata": {
        "colab": {
          "base_uri": "https://localhost:8080/"
        },
        "id": "B6_9Dr4uBzMN",
        "outputId": "fc62c60c-e75e-49bc-8369-4cd223d1bcb9"
      },
      "execution_count": 71,
      "outputs": [
        {
          "output_type": "execute_result",
          "data": {
            "text/plain": [
              "(tensor([[[[ 1,  2],\n",
              "           [ 3,  4]],\n",
              " \n",
              "          [[ 5,  6],\n",
              "           [ 7,  8]]],\n",
              " \n",
              " \n",
              "         [[[ 9, 10],\n",
              "           [11, 12]],\n",
              " \n",
              "          [[13, 14],\n",
              "           [15, 16]]]]),\n",
              " torch.Size([2, 2, 2, 2]))"
            ]
          },
          "metadata": {},
          "execution_count": 71
        }
      ]
    },
    {
      "cell_type": "code",
      "source": [
        "# Try to select 2, 7, 12, 16\n",
        "x[0][0][0][1], x[0][1][1][0], x[1][0][1][1], x[1, 1, 1, 1]"
      ],
      "metadata": {
        "colab": {
          "base_uri": "https://localhost:8080/"
        },
        "id": "402Bzo9dCWTP",
        "outputId": "56c3bde8-e754-4e35-ce53-33f7277d06c5"
      },
      "execution_count": 72,
      "outputs": [
        {
          "output_type": "execute_result",
          "data": {
            "text/plain": [
              "(tensor(2), tensor(7), tensor(12), tensor(16))"
            ]
          },
          "metadata": {},
          "execution_count": 72
        }
      ]
    },
    {
      "cell_type": "code",
      "source": [
        "# Use of \":\" operator\n",
        "# Can be used to select all elements in that dimension...\n",
        "\n",
        "x[:,0]"
      ],
      "metadata": {
        "colab": {
          "base_uri": "https://localhost:8080/"
        },
        "id": "5WGV_9LsC-tg",
        "outputId": "fc94b45c-30fa-4762-8b5e-c2b2d399ff78"
      },
      "execution_count": 73,
      "outputs": [
        {
          "output_type": "execute_result",
          "data": {
            "text/plain": [
              "tensor([[[ 1,  2],\n",
              "         [ 3,  4]],\n",
              "\n",
              "        [[ 9, 10],\n",
              "         [11, 12]]])"
            ]
          },
          "metadata": {},
          "execution_count": 73
        }
      ]
    },
    {
      "cell_type": "code",
      "source": [
        "x[:, :, 1]"
      ],
      "metadata": {
        "colab": {
          "base_uri": "https://localhost:8080/"
        },
        "id": "EWWbTyKHEgS9",
        "outputId": "9a8a6e32-9821-4651-c67f-d7b1a8ef3a40"
      },
      "execution_count": 74,
      "outputs": [
        {
          "output_type": "execute_result",
          "data": {
            "text/plain": [
              "tensor([[[ 3,  4],\n",
              "         [ 7,  8]],\n",
              "\n",
              "        [[11, 12],\n",
              "         [15, 16]]])"
            ]
          },
          "metadata": {},
          "execution_count": 74
        }
      ]
    },
    {
      "cell_type": "code",
      "source": [
        "x[:, 1, 1]"
      ],
      "metadata": {
        "colab": {
          "base_uri": "https://localhost:8080/"
        },
        "id": "ivXYRSOAEgE6",
        "outputId": "76138108-5a40-4867-a963-21b39c549198"
      },
      "execution_count": 75,
      "outputs": [
        {
          "output_type": "execute_result",
          "data": {
            "text/plain": [
              "tensor([[ 7,  8],\n",
              "        [15, 16]])"
            ]
          },
          "metadata": {},
          "execution_count": 75
        }
      ]
    },
    {
      "cell_type": "code",
      "source": [
        "x[:, 1, :, 1]"
      ],
      "metadata": {
        "colab": {
          "base_uri": "https://localhost:8080/"
        },
        "id": "L6l5OUETEfvU",
        "outputId": "e4576c59-9615-44f1-b1f9-f82dde196b40"
      },
      "execution_count": 76,
      "outputs": [
        {
          "output_type": "execute_result",
          "data": {
            "text/plain": [
              "tensor([[ 6,  8],\n",
              "        [14, 16]])"
            ]
          },
          "metadata": {},
          "execution_count": 76
        }
      ]
    },
    {
      "cell_type": "markdown",
      "source": [
        "## PyTorch tensors & NumPy\n",
        "\n",
        "Since NumPy is a popular Python numerical computing library, PyTorch has functionality to interact with it nicely.\n",
        "\n",
        "\n",
        "    torch.from_numpy(ndarray) - NumPy array -> PyTorch tensor.\n",
        "\n",
        "    torch.Tensor.numpy() - PyTorch tensor -> NumPy array.\n"
      ],
      "metadata": {
        "id": "Pfk07CUrKakg"
      }
    },
    {
      "cell_type": "code",
      "source": [
        "import torch\n",
        "import numpy as np\n",
        "arr = np.arange(1.0, 8.0)\n",
        "tensor = torch.from_numpy(arr)\n",
        "arr, tensor"
      ],
      "metadata": {
        "id": "D65BbSiKfANc",
        "colab": {
          "base_uri": "https://localhost:8080/"
        },
        "outputId": "4bc883ca-f0c2-4a05-8743-47f8fcd98dc6"
      },
      "execution_count": 77,
      "outputs": [
        {
          "output_type": "execute_result",
          "data": {
            "text/plain": [
              "(array([1., 2., 3., 4., 5., 6., 7.]),\n",
              " tensor([1., 2., 3., 4., 5., 6., 7.], dtype=torch.float64))"
            ]
          },
          "metadata": {},
          "execution_count": 77
        }
      ]
    },
    {
      "cell_type": "markdown",
      "source": [
        "## Reproducibility (trying to take the random out of random)\n",
        "Although randomness is nice and powerful, sometimes you'd like there to be a little less randomness.\n",
        "\n",
        "Why?\n",
        "\n",
        "So you can perform repeatable experiments.\n",
        "\n",
        "For example, you create an algorithm capable of achieving X performance.\n",
        "\n",
        "And then your friend tries it out to verify you're not crazy.\n",
        "\n",
        "How could they do such a thing?\n",
        "\n",
        "That's where reproducibility comes in.\n",
        "\n",
        "In other words, can you get the same (or very similar) results on your computer running the same code as I get on mine?\n",
        "\n",
        "Let's see a brief example of reproducibility in PyTorch.\n",
        "\n",
        "We'll start by creating two random tensors, since they're random, you'd expect them to be different right"
      ],
      "metadata": {
        "id": "zb3YcxUOfAAq"
      }
    },
    {
      "cell_type": "code",
      "source": [
        "# Create two random tensors\n",
        "random_tensor_A = torch.rand(3, 4)\n",
        "random_tensor_B = torch.rand(3, 4)\n",
        "\n",
        "print(f\"Tensor A:\\n{random_tensor_A}\\n\")\n",
        "print(f\"Tensor B:\\n{random_tensor_B}\\n\")\n",
        "print(f\"Does Tensor A equal Tensor B? (anywhere)\")\n",
        "random_tensor_A == random_tensor_B"
      ],
      "metadata": {
        "id": "QU7NQH3Se_0L",
        "colab": {
          "base_uri": "https://localhost:8080/"
        },
        "outputId": "ad85dd56-373c-4617-8a52-dfa9a97118d4"
      },
      "execution_count": 78,
      "outputs": [
        {
          "output_type": "stream",
          "name": "stdout",
          "text": [
            "Tensor A:\n",
            "tensor([[0.6590, 0.3701, 0.6660, 0.0512],\n",
            "        [0.2423, 0.8194, 0.9645, 0.6588],\n",
            "        [0.2167, 0.6822, 0.2120, 0.0994]])\n",
            "\n",
            "Tensor B:\n",
            "tensor([[0.1701, 0.4526, 0.6062, 0.5372],\n",
            "        [0.9806, 0.4645, 0.9600, 0.1284],\n",
            "        [0.2426, 0.5686, 0.7980, 0.6484]])\n",
            "\n",
            "Does Tensor A equal Tensor B? (anywhere)\n"
          ]
        },
        {
          "output_type": "execute_result",
          "data": {
            "text/plain": [
              "tensor([[False, False, False, False],\n",
              "        [False, False, False, False],\n",
              "        [False, False, False, False]])"
            ]
          },
          "metadata": {},
          "execution_count": 78
        }
      ]
    },
    {
      "cell_type": "code",
      "source": [
        " # Set the random seed\n",
        "RANDOM_SEED=42 # try changing this to different values and see what happens to the numbers below\n",
        "torch.manual_seed(seed=RANDOM_SEED)\n",
        "random_tensor_C = torch.rand(3, 4)\n",
        "\n",
        "# Have to reset the seed every time a new rand() is called\n",
        "# Without this, tensor_D would be different to tensor_C\n",
        "torch.random.manual_seed(seed=RANDOM_SEED) # try commenting this line out and seeing what happens\n",
        "random_tensor_D = torch.rand(3, 4)\n",
        "\n",
        "print(f\"Tensor C:\\n{random_tensor_C}\\n\")\n",
        "print(f\"Tensor D:\\n{random_tensor_D}\\n\")\n",
        "print(f\"Does Tensor C equal Tensor D? (anywhere)\")\n",
        "random_tensor_C == random_tensor_D"
      ],
      "metadata": {
        "id": "vG_h2_Xoe_qJ",
        "colab": {
          "base_uri": "https://localhost:8080/"
        },
        "outputId": "88a0253f-1831-4875-f65c-8f78c8f7bfb7"
      },
      "execution_count": 79,
      "outputs": [
        {
          "output_type": "stream",
          "name": "stdout",
          "text": [
            "Tensor C:\n",
            "tensor([[0.8823, 0.9150, 0.3829, 0.9593],\n",
            "        [0.3904, 0.6009, 0.2566, 0.7936],\n",
            "        [0.9408, 0.1332, 0.9346, 0.5936]])\n",
            "\n",
            "Tensor D:\n",
            "tensor([[0.8823, 0.9150, 0.3829, 0.9593],\n",
            "        [0.3904, 0.6009, 0.2566, 0.7936],\n",
            "        [0.9408, 0.1332, 0.9346, 0.5936]])\n",
            "\n",
            "Does Tensor C equal Tensor D? (anywhere)\n"
          ]
        },
        {
          "output_type": "execute_result",
          "data": {
            "text/plain": [
              "tensor([[True, True, True, True],\n",
              "        [True, True, True, True],\n",
              "        [True, True, True, True]])"
            ]
          },
          "metadata": {},
          "execution_count": 79
        }
      ]
    },
    {
      "cell_type": "markdown",
      "source": [
        "## On GPU"
      ],
      "metadata": {
        "id": "j28NO-Ye4DSP"
      }
    },
    {
      "cell_type": "code",
      "source": [
        "!nvidia-smi"
      ],
      "metadata": {
        "colab": {
          "base_uri": "https://localhost:8080/"
        },
        "id": "uQTT0m-34DDM",
        "outputId": "7ac3e38e-37e7-4cd7-ad8b-1f2293bf72ef"
      },
      "execution_count": 80,
      "outputs": [
        {
          "output_type": "stream",
          "name": "stdout",
          "text": [
            "Thu Jul  3 13:12:32 2025       \n",
            "+-----------------------------------------------------------------------------------------+\n",
            "| NVIDIA-SMI 550.54.15              Driver Version: 550.54.15      CUDA Version: 12.4     |\n",
            "|-----------------------------------------+------------------------+----------------------+\n",
            "| GPU  Name                 Persistence-M | Bus-Id          Disp.A | Volatile Uncorr. ECC |\n",
            "| Fan  Temp   Perf          Pwr:Usage/Cap |           Memory-Usage | GPU-Util  Compute M. |\n",
            "|                                         |                        |               MIG M. |\n",
            "|=========================================+========================+======================|\n",
            "|   0  Tesla T4                       Off |   00000000:00:04.0 Off |                    0 |\n",
            "| N/A   71C    P8             12W /   70W |       0MiB /  15360MiB |      0%      Default |\n",
            "|                                         |                        |                  N/A |\n",
            "+-----------------------------------------+------------------------+----------------------+\n",
            "                                                                                         \n",
            "+-----------------------------------------------------------------------------------------+\n",
            "| Processes:                                                                              |\n",
            "|  GPU   GI   CI        PID   Type   Process name                              GPU Memory |\n",
            "|        ID   ID                                                               Usage      |\n",
            "|=========================================================================================|\n",
            "|  No running processes found                                                             |\n",
            "+-----------------------------------------------------------------------------------------+\n"
          ]
        }
      ]
    },
    {
      "cell_type": "code",
      "source": [
        "import torch\n",
        "torch.cuda.is_available()"
      ],
      "metadata": {
        "colab": {
          "base_uri": "https://localhost:8080/"
        },
        "id": "ktiOxsmr4C61",
        "outputId": "bd1d90ab-d269-4b6a-82b7-e5b855d29705"
      },
      "execution_count": 81,
      "outputs": [
        {
          "output_type": "execute_result",
          "data": {
            "text/plain": [
              "True"
            ]
          },
          "metadata": {},
          "execution_count": 81
        }
      ]
    },
    {
      "cell_type": "code",
      "source": [
        "device = \"cuda\" if torch.cuda.is_available() else \"cpu\"\n",
        "device"
      ],
      "metadata": {
        "colab": {
          "base_uri": "https://localhost:8080/",
          "height": 34
        },
        "id": "2IukCI1s4C2r",
        "outputId": "17a40380-3350-4f73-975b-fffd30762dc1"
      },
      "execution_count": 82,
      "outputs": [
        {
          "output_type": "execute_result",
          "data": {
            "text/plain": [
              "'cuda'"
            ],
            "application/vnd.google.colaboratory.intrinsic+json": {
              "type": "string"
            }
          },
          "metadata": {},
          "execution_count": 82
        }
      ]
    },
    {
      "cell_type": "code",
      "source": [
        "if torch.cuda.is_available():\n",
        "    device = \"cuda\" # Use NVIDIA GPU (if available)\n",
        "elif torch.backends.mps.is_available():\n",
        "    device = \"mps\" # Use Apple Silicon GPU (if available)\n",
        "else:\n",
        "    device = \"cpu\" # Default to CPU if no GPU is available"
      ],
      "metadata": {
        "id": "3pZIZk8z4kXz"
      },
      "execution_count": 83,
      "outputs": []
    },
    {
      "cell_type": "code",
      "source": [
        "tensor = torch.tensor([1, 2, 3])\n",
        "\n",
        "# Tensor not on GPU\n",
        "print(tensor, tensor.device)\n",
        "\n",
        "# Move tensor to GPU (if available)\n",
        "tensor_on_gpu = tensor.to(device)\n",
        "tensor_on_gpu"
      ],
      "metadata": {
        "colab": {
          "base_uri": "https://localhost:8080/"
        },
        "id": "uZ1fYLmJ4m5G",
        "outputId": "7c40ad19-f4cb-4797-bd83-0ce2be41adc6"
      },
      "execution_count": 84,
      "outputs": [
        {
          "output_type": "stream",
          "name": "stdout",
          "text": [
            "tensor([1, 2, 3]) cpu\n"
          ]
        },
        {
          "output_type": "execute_result",
          "data": {
            "text/plain": [
              "tensor([1, 2, 3], device='cuda:0')"
            ]
          },
          "metadata": {},
          "execution_count": 84
        }
      ]
    },
    {
      "cell_type": "code",
      "source": [
        "# If tensor is on GPU, can't transform it to NumPy (this will error)\n",
        "try:\n",
        "  tensor_on_gpu.numpy()\n",
        "except:\n",
        "  print(\"tensor_on_gpu.numpy()\")"
      ],
      "metadata": {
        "colab": {
          "base_uri": "https://localhost:8080/"
        },
        "id": "v9bNcKQG4mu6",
        "outputId": "819712dc-2340-4d29-c687-4f8a03c73e6d"
      },
      "execution_count": 85,
      "outputs": [
        {
          "output_type": "stream",
          "name": "stdout",
          "text": [
            "tensor_on_gpu.numpy()\n"
          ]
        }
      ]
    },
    {
      "cell_type": "code",
      "source": [
        "# Instead, copy the tensor back to cpu\n",
        "tensor_back_on_cpu = tensor_on_gpu.cpu().numpy()\n",
        "tensor_back_on_cpu"
      ],
      "metadata": {
        "colab": {
          "base_uri": "https://localhost:8080/"
        },
        "id": "8gic2oCx4mXP",
        "outputId": "58238555-4844-40e8-b571-5590997ec942"
      },
      "execution_count": 86,
      "outputs": [
        {
          "output_type": "execute_result",
          "data": {
            "text/plain": [
              "array([1, 2, 3])"
            ]
          },
          "metadata": {},
          "execution_count": 86
        }
      ]
    },
    {
      "cell_type": "markdown",
      "source": [
        "A nice picture of a sunset bcz you reached the end. :)\n",
        "\n",
        "![image.png](data:image/png;base64,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)"
      ],
      "metadata": {
        "id": "qxQCeuA1DSto"
      }
    },
    {
      "cell_type": "markdown",
      "source": [
        "## Exercises"
      ],
      "metadata": {
        "id": "tOLEGytG7e5m"
      }
    },
    {
      "cell_type": "code",
      "source": [
        "import torch"
      ],
      "metadata": {
        "id": "lPJibI9F7jCU"
      },
      "execution_count": 87,
      "outputs": []
    },
    {
      "cell_type": "code",
      "source": [
        "tensor = torch.rand(7, 7);\n",
        "tensor"
      ],
      "metadata": {
        "colab": {
          "base_uri": "https://localhost:8080/"
        },
        "id": "Ab_NSBN1Zysl",
        "outputId": "3c71c93f-b892-45fa-dcc0-c54d734fe865"
      },
      "execution_count": 88,
      "outputs": [
        {
          "output_type": "execute_result",
          "data": {
            "text/plain": [
              "tensor([[0.8694, 0.5677, 0.7411, 0.4294, 0.8854, 0.5739, 0.2666],\n",
              "        [0.6274, 0.2696, 0.4414, 0.2969, 0.8317, 0.1053, 0.2695],\n",
              "        [0.3588, 0.1994, 0.5472, 0.0062, 0.9516, 0.0753, 0.8860],\n",
              "        [0.5832, 0.3376, 0.8090, 0.5779, 0.9040, 0.5547, 0.3423],\n",
              "        [0.6343, 0.3644, 0.7104, 0.9464, 0.7890, 0.2814, 0.7886],\n",
              "        [0.5895, 0.7539, 0.1952, 0.0050, 0.3068, 0.1165, 0.9103],\n",
              "        [0.6440, 0.7071, 0.6581, 0.4913, 0.8913, 0.1447, 0.5315]])"
            ]
          },
          "metadata": {},
          "execution_count": 88
        }
      ]
    },
    {
      "cell_type": "code",
      "source": [
        "newT = torch.rand(1, 7);\n",
        "newT"
      ],
      "metadata": {
        "colab": {
          "base_uri": "https://localhost:8080/"
        },
        "id": "eJI0rZuaZqm9",
        "outputId": "21f6d78a-9718-4179-a0c0-30acbb504690"
      },
      "execution_count": 89,
      "outputs": [
        {
          "output_type": "execute_result",
          "data": {
            "text/plain": [
              "tensor([[0.1587, 0.6542, 0.3278, 0.6532, 0.3958, 0.9147, 0.2036]])"
            ]
          },
          "metadata": {},
          "execution_count": 89
        }
      ]
    },
    {
      "cell_type": "code",
      "source": [
        "woa = torch.matmul(tensor, newT.T);\n",
        "woa"
      ],
      "metadata": {
        "colab": {
          "base_uri": "https://localhost:8080/"
        },
        "id": "SGNMbCFgZ87V",
        "outputId": "fc642fb0-853b-4b1a-b15c-855d56382665"
      },
      "execution_count": 90,
      "outputs": [
        {
          "output_type": "execute_result",
          "data": {
            "text/plain": [
              "tensor([[1.9625],\n",
              "        [1.0950],\n",
              "        [0.9967],\n",
              "        [1.8910],\n",
              "        [1.9205],\n",
              "        [1.0674],\n",
              "        [1.6949]])"
            ]
          },
          "metadata": {},
          "execution_count": 90
        }
      ]
    },
    {
      "cell_type": "code",
      "source": [
        "torch.manual_seed(seed=0)\n",
        "A = torch.rand(7, 7)\n",
        "B = torch.rand(1, 7)\n",
        "C = A @ B.T\n",
        "C"
      ],
      "metadata": {
        "colab": {
          "base_uri": "https://localhost:8080/"
        },
        "id": "3xSXAAEFaCv1",
        "outputId": "df46e9c4-b65e-4e80-86f9-49492b2d5024"
      },
      "execution_count": 91,
      "outputs": [
        {
          "output_type": "execute_result",
          "data": {
            "text/plain": [
              "tensor([[1.8542],\n",
              "        [1.9611],\n",
              "        [2.2884],\n",
              "        [3.0481],\n",
              "        [1.7067],\n",
              "        [2.5290],\n",
              "        [1.7989]])"
            ]
          },
          "metadata": {},
          "execution_count": 91
        }
      ]
    },
    {
      "cell_type": "code",
      "source": [
        "!nvidia-smi"
      ],
      "metadata": {
        "colab": {
          "base_uri": "https://localhost:8080/"
        },
        "id": "bdeaAhH4aVGz",
        "outputId": "a74f82d4-3f8b-4785-bc76-5579d54352b6"
      },
      "execution_count": 92,
      "outputs": [
        {
          "output_type": "stream",
          "name": "stdout",
          "text": [
            "Thu Jul  3 13:12:33 2025       \n",
            "+-----------------------------------------------------------------------------------------+\n",
            "| NVIDIA-SMI 550.54.15              Driver Version: 550.54.15      CUDA Version: 12.4     |\n",
            "|-----------------------------------------+------------------------+----------------------+\n",
            "| GPU  Name                 Persistence-M | Bus-Id          Disp.A | Volatile Uncorr. ECC |\n",
            "| Fan  Temp   Perf          Pwr:Usage/Cap |           Memory-Usage | GPU-Util  Compute M. |\n",
            "|                                         |                        |               MIG M. |\n",
            "|=========================================+========================+======================|\n",
            "|   0  Tesla T4                       Off |   00000000:00:04.0 Off |                    0 |\n",
            "| N/A   71C    P0             30W /   70W |     104MiB /  15360MiB |      3%      Default |\n",
            "|                                         |                        |                  N/A |\n",
            "+-----------------------------------------+------------------------+----------------------+\n",
            "                                                                                         \n",
            "+-----------------------------------------------------------------------------------------+\n",
            "| Processes:                                                                              |\n",
            "|  GPU   GI   CI        PID   Type   Process name                              GPU Memory |\n",
            "|        ID   ID                                                               Usage      |\n",
            "|=========================================================================================|\n",
            "+-----------------------------------------------------------------------------------------+\n"
          ]
        }
      ]
    },
    {
      "cell_type": "code",
      "source": [
        "torch.cuda.manual_seed(1234)\n",
        "device = 'cuda' if torch.cuda.is_available() else 'cpu'\n",
        "A = torch.rand(2, 3, device=device)\n",
        "B = torch.rand(2, 3, device=device)\n",
        "A, B"
      ],
      "metadata": {
        "colab": {
          "base_uri": "https://localhost:8080/"
        },
        "id": "fndG7wGza_Ao",
        "outputId": "96528317-7f25-469a-b651-64a0ac949387"
      },
      "execution_count": 93,
      "outputs": [
        {
          "output_type": "execute_result",
          "data": {
            "text/plain": [
              "(tensor([[0.1272, 0.8167, 0.5440],\n",
              "         [0.6601, 0.2721, 0.9737]], device='cuda:0'),\n",
              " tensor([[0.6208, 0.0276, 0.3255],\n",
              "         [0.1114, 0.6812, 0.3608]], device='cuda:0'))"
            ]
          },
          "metadata": {},
          "execution_count": 93
        }
      ]
    },
    {
      "cell_type": "code",
      "source": [
        "C = A @ B.T\n",
        "C"
      ],
      "metadata": {
        "colab": {
          "base_uri": "https://localhost:8080/"
        },
        "id": "O3E1mz-7cn4p",
        "outputId": "4a416da8-3a82-4dd3-dadf-235b9ff2205e"
      },
      "execution_count": 94,
      "outputs": [
        {
          "output_type": "execute_result",
          "data": {
            "text/plain": [
              "tensor([[0.2786, 0.7668],\n",
              "        [0.7343, 0.6102]], device='cuda:0')"
            ]
          },
          "metadata": {},
          "execution_count": 94
        }
      ]
    },
    {
      "cell_type": "code",
      "source": [
        "w = torch.rand(7)\n",
        "w.max(), w.min(), w"
      ],
      "metadata": {
        "colab": {
          "base_uri": "https://localhost:8080/"
        },
        "id": "tYpX1vWzdL4W",
        "outputId": "41273fa1-ec8c-4049-eac9-8c878efc4fc5"
      },
      "execution_count": 95,
      "outputs": [
        {
          "output_type": "execute_result",
          "data": {
            "text/plain": [
              "(tensor(0.7262),\n",
              " tensor(0.1123),\n",
              " tensor([0.5932, 0.1123, 0.1535, 0.2417, 0.7262, 0.7011, 0.2038]))"
            ]
          },
          "metadata": {},
          "execution_count": 95
        }
      ]
    },
    {
      "cell_type": "code",
      "source": [
        "w.argmax(), w.argmin()"
      ],
      "metadata": {
        "colab": {
          "base_uri": "https://localhost:8080/"
        },
        "id": "VrNkfTpIdYEc",
        "outputId": "b0a7a823-7065-4557-b6fd-4bec445bef85"
      },
      "execution_count": 96,
      "outputs": [
        {
          "output_type": "execute_result",
          "data": {
            "text/plain": [
              "(tensor(4), tensor(1))"
            ]
          },
          "metadata": {},
          "execution_count": 96
        }
      ]
    },
    {
      "cell_type": "code",
      "source": [
        "torch.manual_seed(7)\n",
        "x = torch.rand(1, 1, 1, 10)\n",
        "print(x, x.shape)\n",
        "y = torch.squeeze(x)\n",
        "y, y.shape"
      ],
      "metadata": {
        "colab": {
          "base_uri": "https://localhost:8080/"
        },
        "id": "9UBJ8O-Sdf76",
        "outputId": "6a48ddc7-7bfe-4475-d3dc-9a7556e709f1"
      },
      "execution_count": 97,
      "outputs": [
        {
          "output_type": "stream",
          "name": "stdout",
          "text": [
            "tensor([[[[0.5349, 0.1988, 0.6592, 0.6569, 0.2328, 0.4251, 0.2071, 0.6297,\n",
            "           0.3653, 0.8513]]]]) torch.Size([1, 1, 1, 10])\n"
          ]
        },
        {
          "output_type": "execute_result",
          "data": {
            "text/plain": [
              "(tensor([0.5349, 0.1988, 0.6592, 0.6569, 0.2328, 0.4251, 0.2071, 0.6297, 0.3653,\n",
              "         0.8513]),\n",
              " torch.Size([10]))"
            ]
          },
          "metadata": {},
          "execution_count": 97
        }
      ]
    }
  ]
}